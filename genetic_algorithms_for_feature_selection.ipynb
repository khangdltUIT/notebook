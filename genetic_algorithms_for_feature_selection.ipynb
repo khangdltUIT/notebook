{
  "nbformat": 4,
  "nbformat_minor": 0,
  "metadata": {
    "colab": {
      "name": "genetic algorithms for feature selection.ipynb",
      "provenance": [],
      "authorship_tag": "ABX9TyOWnp47B2z2fhTiTulBmfb5",
      "include_colab_link": true
    },
    "kernelspec": {
      "display_name": "Python 3",
      "name": "python3"
    },
    "language_info": {
      "name": "python"
    }
  },
  "cells": [
    {
      "cell_type": "markdown",
      "metadata": {
        "id": "view-in-github",
        "colab_type": "text"
      },
      "source": [
        "<a href=\"https://colab.research.google.com/github/khangdltUIT/notebook/blob/main/genetic_algorithms_for_feature_selection.ipynb\" target=\"_parent\"><img src=\"https://colab.research.google.com/assets/colab-badge.svg\" alt=\"Open In Colab\"/></a>"
      ]
    },
    {
      "cell_type": "code",
      "metadata": {
        "colab": {
          "base_uri": "https://localhost:8080/"
        },
        "id": "B0we7TzXZvdS",
        "outputId": "3a584f14-3f1b-43c3-d23e-9cc24ada7c1d"
      },
      "source": [
        "from google.colab import drive\n",
        "drive.mount('/content/drive')"
      ],
      "execution_count": null,
      "outputs": [
        {
          "output_type": "stream",
          "text": [
            "Drive already mounted at /content/drive; to attempt to forcibly remount, call drive.mount(\"/content/drive\", force_remount=True).\n"
          ],
          "name": "stdout"
        }
      ]
    },
    {
      "cell_type": "code",
      "metadata": {
        "id": "CLWyEejFZ8FO"
      },
      "source": [
        "!cp '/content/drive/MyDrive/REPORT/CourseProject/Mathematics for CS/breast_cancer_wisconsin.csv' '/content/breast_cancer_wisconsin.csv'"
      ],
      "execution_count": null,
      "outputs": []
    },
    {
      "cell_type": "markdown",
      "metadata": {
        "id": "tNyMgGjoNB8n"
      },
      "source": [
        "#Breast Cancer Wisconsin"
      ]
    },
    {
      "cell_type": "markdown",
      "metadata": {
        "id": "x8I9T7pXaPCK"
      },
      "source": [
        "## Analysis Dataset"
      ]
    },
    {
      "cell_type": "code",
      "metadata": {
        "id": "awBF9hXvaRfy"
      },
      "source": [
        "import pandas as pd\n",
        "import matplotlib.pyplot as plt\n",
        "import seaborn as sns\n",
        "\n",
        "%matplotlib inline\n",
        "sns.set_style('whitegrid')"
      ],
      "execution_count": null,
      "outputs": []
    },
    {
      "cell_type": "code",
      "metadata": {
        "id": "I1aZTsZSakh-"
      },
      "source": [
        "features_name = ['radius_mean', 'texture_mean', 'perimeter_mean', 'area_mean', 'smoothness_mean', 'compactness_mean', 'concavity_mean', 'concave points_mean', 'symmetry_mean', 'fractal_dimension_mean', 'radius_se', 'texture_se', 'perimeter_se', 'area_se', 'smoothness_se', 'compactness_se', 'concavity_se', 'concave points_se', 'symmetry_se', 'fractal_dimension_se', 'radius_worst', 'texture_worst', 'perimeter_worst', 'area_worst', 'smoothness_worst', 'compactness_worst', 'concavity_worst', 'concave points_worst', 'symmetry_worst', 'fractal_dimension_worst']"
      ],
      "execution_count": null,
      "outputs": []
    },
    {
      "cell_type": "code",
      "metadata": {
        "colab": {
          "base_uri": "https://localhost:8080/"
        },
        "id": "vriuSyrycy0H",
        "outputId": "ee3a4bd4-38ee-4058-f13b-4ad382f91358"
      },
      "source": [
        "len(features_name)"
      ],
      "execution_count": null,
      "outputs": [
        {
          "output_type": "execute_result",
          "data": {
            "text/plain": [
              "30"
            ]
          },
          "metadata": {
            "tags": []
          },
          "execution_count": 61
        }
      ]
    },
    {
      "cell_type": "code",
      "metadata": {
        "id": "C51N5uvIHKoK"
      },
      "source": [
        "df = pd.read_csv('/content/breast_cancer_wisconsin.csv')"
      ],
      "execution_count": null,
      "outputs": []
    },
    {
      "cell_type": "code",
      "metadata": {
        "colab": {
          "base_uri": "https://localhost:8080/",
          "height": 232
        },
        "id": "y1J7VQ7fHgDT",
        "outputId": "ea6a7191-1923-4ed0-8a31-41c78ed00787"
      },
      "source": [
        "df.head()"
      ],
      "execution_count": null,
      "outputs": [
        {
          "output_type": "execute_result",
          "data": {
            "text/html": [
              "<div>\n",
              "<style scoped>\n",
              "    .dataframe tbody tr th:only-of-type {\n",
              "        vertical-align: middle;\n",
              "    }\n",
              "\n",
              "    .dataframe tbody tr th {\n",
              "        vertical-align: top;\n",
              "    }\n",
              "\n",
              "    .dataframe thead th {\n",
              "        text-align: right;\n",
              "    }\n",
              "</style>\n",
              "<table border=\"1\" class=\"dataframe\">\n",
              "  <thead>\n",
              "    <tr style=\"text-align: right;\">\n",
              "      <th></th>\n",
              "      <th>id</th>\n",
              "      <th>diagnosis</th>\n",
              "      <th>radius_mean</th>\n",
              "      <th>texture_mean</th>\n",
              "      <th>perimeter_mean</th>\n",
              "      <th>area_mean</th>\n",
              "      <th>smoothness_mean</th>\n",
              "      <th>compactness_mean</th>\n",
              "      <th>concavity_mean</th>\n",
              "      <th>concave points_mean</th>\n",
              "      <th>symmetry_mean</th>\n",
              "      <th>fractal_dimension_mean</th>\n",
              "      <th>radius_se</th>\n",
              "      <th>texture_se</th>\n",
              "      <th>perimeter_se</th>\n",
              "      <th>area_se</th>\n",
              "      <th>smoothness_se</th>\n",
              "      <th>compactness_se</th>\n",
              "      <th>concavity_se</th>\n",
              "      <th>concave points_se</th>\n",
              "      <th>symmetry_se</th>\n",
              "      <th>fractal_dimension_se</th>\n",
              "      <th>radius_worst</th>\n",
              "      <th>texture_worst</th>\n",
              "      <th>perimeter_worst</th>\n",
              "      <th>area_worst</th>\n",
              "      <th>smoothness_worst</th>\n",
              "      <th>compactness_worst</th>\n",
              "      <th>concavity_worst</th>\n",
              "      <th>concave points_worst</th>\n",
              "      <th>symmetry_worst</th>\n",
              "      <th>fractal_dimension_worst</th>\n",
              "      <th>Unnamed: 32</th>\n",
              "    </tr>\n",
              "  </thead>\n",
              "  <tbody>\n",
              "    <tr>\n",
              "      <th>0</th>\n",
              "      <td>842302</td>\n",
              "      <td>M</td>\n",
              "      <td>17.99</td>\n",
              "      <td>10.38</td>\n",
              "      <td>122.80</td>\n",
              "      <td>1001.0</td>\n",
              "      <td>0.11840</td>\n",
              "      <td>0.27760</td>\n",
              "      <td>0.3001</td>\n",
              "      <td>0.14710</td>\n",
              "      <td>0.2419</td>\n",
              "      <td>0.07871</td>\n",
              "      <td>1.0950</td>\n",
              "      <td>0.9053</td>\n",
              "      <td>8.589</td>\n",
              "      <td>153.40</td>\n",
              "      <td>0.006399</td>\n",
              "      <td>0.04904</td>\n",
              "      <td>0.05373</td>\n",
              "      <td>0.01587</td>\n",
              "      <td>0.03003</td>\n",
              "      <td>0.006193</td>\n",
              "      <td>25.38</td>\n",
              "      <td>17.33</td>\n",
              "      <td>184.60</td>\n",
              "      <td>2019.0</td>\n",
              "      <td>0.1622</td>\n",
              "      <td>0.6656</td>\n",
              "      <td>0.7119</td>\n",
              "      <td>0.2654</td>\n",
              "      <td>0.4601</td>\n",
              "      <td>0.11890</td>\n",
              "      <td>NaN</td>\n",
              "    </tr>\n",
              "    <tr>\n",
              "      <th>1</th>\n",
              "      <td>842517</td>\n",
              "      <td>M</td>\n",
              "      <td>20.57</td>\n",
              "      <td>17.77</td>\n",
              "      <td>132.90</td>\n",
              "      <td>1326.0</td>\n",
              "      <td>0.08474</td>\n",
              "      <td>0.07864</td>\n",
              "      <td>0.0869</td>\n",
              "      <td>0.07017</td>\n",
              "      <td>0.1812</td>\n",
              "      <td>0.05667</td>\n",
              "      <td>0.5435</td>\n",
              "      <td>0.7339</td>\n",
              "      <td>3.398</td>\n",
              "      <td>74.08</td>\n",
              "      <td>0.005225</td>\n",
              "      <td>0.01308</td>\n",
              "      <td>0.01860</td>\n",
              "      <td>0.01340</td>\n",
              "      <td>0.01389</td>\n",
              "      <td>0.003532</td>\n",
              "      <td>24.99</td>\n",
              "      <td>23.41</td>\n",
              "      <td>158.80</td>\n",
              "      <td>1956.0</td>\n",
              "      <td>0.1238</td>\n",
              "      <td>0.1866</td>\n",
              "      <td>0.2416</td>\n",
              "      <td>0.1860</td>\n",
              "      <td>0.2750</td>\n",
              "      <td>0.08902</td>\n",
              "      <td>NaN</td>\n",
              "    </tr>\n",
              "    <tr>\n",
              "      <th>2</th>\n",
              "      <td>84300903</td>\n",
              "      <td>M</td>\n",
              "      <td>19.69</td>\n",
              "      <td>21.25</td>\n",
              "      <td>130.00</td>\n",
              "      <td>1203.0</td>\n",
              "      <td>0.10960</td>\n",
              "      <td>0.15990</td>\n",
              "      <td>0.1974</td>\n",
              "      <td>0.12790</td>\n",
              "      <td>0.2069</td>\n",
              "      <td>0.05999</td>\n",
              "      <td>0.7456</td>\n",
              "      <td>0.7869</td>\n",
              "      <td>4.585</td>\n",
              "      <td>94.03</td>\n",
              "      <td>0.006150</td>\n",
              "      <td>0.04006</td>\n",
              "      <td>0.03832</td>\n",
              "      <td>0.02058</td>\n",
              "      <td>0.02250</td>\n",
              "      <td>0.004571</td>\n",
              "      <td>23.57</td>\n",
              "      <td>25.53</td>\n",
              "      <td>152.50</td>\n",
              "      <td>1709.0</td>\n",
              "      <td>0.1444</td>\n",
              "      <td>0.4245</td>\n",
              "      <td>0.4504</td>\n",
              "      <td>0.2430</td>\n",
              "      <td>0.3613</td>\n",
              "      <td>0.08758</td>\n",
              "      <td>NaN</td>\n",
              "    </tr>\n",
              "    <tr>\n",
              "      <th>3</th>\n",
              "      <td>84348301</td>\n",
              "      <td>M</td>\n",
              "      <td>11.42</td>\n",
              "      <td>20.38</td>\n",
              "      <td>77.58</td>\n",
              "      <td>386.1</td>\n",
              "      <td>0.14250</td>\n",
              "      <td>0.28390</td>\n",
              "      <td>0.2414</td>\n",
              "      <td>0.10520</td>\n",
              "      <td>0.2597</td>\n",
              "      <td>0.09744</td>\n",
              "      <td>0.4956</td>\n",
              "      <td>1.1560</td>\n",
              "      <td>3.445</td>\n",
              "      <td>27.23</td>\n",
              "      <td>0.009110</td>\n",
              "      <td>0.07458</td>\n",
              "      <td>0.05661</td>\n",
              "      <td>0.01867</td>\n",
              "      <td>0.05963</td>\n",
              "      <td>0.009208</td>\n",
              "      <td>14.91</td>\n",
              "      <td>26.50</td>\n",
              "      <td>98.87</td>\n",
              "      <td>567.7</td>\n",
              "      <td>0.2098</td>\n",
              "      <td>0.8663</td>\n",
              "      <td>0.6869</td>\n",
              "      <td>0.2575</td>\n",
              "      <td>0.6638</td>\n",
              "      <td>0.17300</td>\n",
              "      <td>NaN</td>\n",
              "    </tr>\n",
              "    <tr>\n",
              "      <th>4</th>\n",
              "      <td>84358402</td>\n",
              "      <td>M</td>\n",
              "      <td>20.29</td>\n",
              "      <td>14.34</td>\n",
              "      <td>135.10</td>\n",
              "      <td>1297.0</td>\n",
              "      <td>0.10030</td>\n",
              "      <td>0.13280</td>\n",
              "      <td>0.1980</td>\n",
              "      <td>0.10430</td>\n",
              "      <td>0.1809</td>\n",
              "      <td>0.05883</td>\n",
              "      <td>0.7572</td>\n",
              "      <td>0.7813</td>\n",
              "      <td>5.438</td>\n",
              "      <td>94.44</td>\n",
              "      <td>0.011490</td>\n",
              "      <td>0.02461</td>\n",
              "      <td>0.05688</td>\n",
              "      <td>0.01885</td>\n",
              "      <td>0.01756</td>\n",
              "      <td>0.005115</td>\n",
              "      <td>22.54</td>\n",
              "      <td>16.67</td>\n",
              "      <td>152.20</td>\n",
              "      <td>1575.0</td>\n",
              "      <td>0.1374</td>\n",
              "      <td>0.2050</td>\n",
              "      <td>0.4000</td>\n",
              "      <td>0.1625</td>\n",
              "      <td>0.2364</td>\n",
              "      <td>0.07678</td>\n",
              "      <td>NaN</td>\n",
              "    </tr>\n",
              "  </tbody>\n",
              "</table>\n",
              "</div>"
            ],
            "text/plain": [
              "         id diagnosis  ...  fractal_dimension_worst  Unnamed: 32\n",
              "0    842302         M  ...                  0.11890          NaN\n",
              "1    842517         M  ...                  0.08902          NaN\n",
              "2  84300903         M  ...                  0.08758          NaN\n",
              "3  84348301         M  ...                  0.17300          NaN\n",
              "4  84358402         M  ...                  0.07678          NaN\n",
              "\n",
              "[5 rows x 33 columns]"
            ]
          },
          "metadata": {
            "tags": []
          },
          "execution_count": 20
        }
      ]
    },
    {
      "cell_type": "code",
      "metadata": {
        "id": "WyhnS_hEcfc0"
      },
      "source": [
        "x = df[features_name]\n",
        "y = df['diagnosis']"
      ],
      "execution_count": null,
      "outputs": []
    },
    {
      "cell_type": "code",
      "metadata": {
        "colab": {
          "base_uri": "https://localhost:8080/",
          "height": 350
        },
        "id": "23cMm5x4IAA5",
        "outputId": "395dd118-9f86-41d3-e6d7-7060236891c4"
      },
      "source": [
        "sns.countplot(y, label = \"Count\")"
      ],
      "execution_count": null,
      "outputs": [
        {
          "output_type": "stream",
          "text": [
            "/usr/local/lib/python3.7/dist-packages/seaborn/_decorators.py:43: FutureWarning: Pass the following variable as a keyword arg: x. From version 0.12, the only valid positional argument will be `data`, and passing other arguments without an explicit keyword will result in an error or misinterpretation.\n",
            "  FutureWarning\n"
          ],
          "name": "stderr"
        },
        {
          "output_type": "execute_result",
          "data": {
            "text/plain": [
              "<matplotlib.axes._subplots.AxesSubplot at 0x7fe799043bd0>"
            ]
          },
          "metadata": {
            "tags": []
          },
          "execution_count": 64
        },
        {
          "output_type": "display_data",
          "data": {
            "image/png": "[encoded data removed]",
            "text/plain": [
              "<Figure size 432x288 with 1 Axes>"
            ]
          },
          "metadata": {
            "tags": []
          }
        }
      ]
    },
    {
      "cell_type": "code",
      "metadata": {
        "id": "9A3R6Rrx1aCv"
      },
      "source": [
        "xtrain, xtest, ytrain, ytest = train_test_split(df[features_name], df['diagnosis'], test_size = 0.2, random_state = 0)"
      ],
      "execution_count": null,
      "outputs": []
    },
    {
      "cell_type": "markdown",
      "metadata": {
        "id": "OfUze4a0aorL"
      },
      "source": [
        "## Genetic Algorithms"
      ]
    },
    {
      "cell_type": "code",
      "metadata": {
        "colab": {
          "base_uri": "https://localhost:8080/"
        },
        "id": "9RET3zUaaqMu",
        "outputId": "815323d8-b02b-444d-9177-d19050c5a20d"
      },
      "source": [
        "!pip install sklearn-genetic"
      ],
      "execution_count": null,
      "outputs": [
        {
          "output_type": "stream",
          "text": [
            "Requirement already satisfied: sklearn-genetic in /usr/local/lib/python3.7/dist-packages (0.4.1)\n",
            "Requirement already satisfied: scikit-learn>=0.20.3 in /usr/local/lib/python3.7/dist-packages (from sklearn-genetic) (0.22.2.post1)\n",
            "Requirement already satisfied: deap>=1.0.2 in /usr/local/lib/python3.7/dist-packages (from sklearn-genetic) (1.3.1)\n",
            "Requirement already satisfied: numpy>=1.11.0 in /usr/local/lib/python3.7/dist-packages (from scikit-learn>=0.20.3->sklearn-genetic) (1.19.5)\n",
            "Requirement already satisfied: joblib>=0.11 in /usr/local/lib/python3.7/dist-packages (from scikit-learn>=0.20.3->sklearn-genetic) (1.0.1)\n",
            "Requirement already satisfied: scipy>=0.17.0 in /usr/local/lib/python3.7/dist-packages (from scikit-learn>=0.20.3->sklearn-genetic) (1.4.1)\n"
          ],
          "name": "stdout"
        }
      ]
    },
    {
      "cell_type": "code",
      "metadata": {
        "colab": {
          "base_uri": "https://localhost:8080/"
        },
        "id": "eWGUEU52ecrK",
        "outputId": "e4974c4d-8cc7-4977-c676-ed9a1c9cf93d"
      },
      "source": [
        "from __future__ import print_function\n",
        "import numpy as np\n",
        "from sklearn import datasets, linear_model\n",
        "\n",
        "from genetic_selection import GeneticSelectionCV\n",
        "\n",
        "\n",
        "#iris = datasets.load_iris()\n",
        "# Some noisy data not correlated\n",
        "E = np.random.uniform(0, 0.1, size=(len(xtrain), 20))\n",
        "\n",
        "#X = np.hstack((x, E))\n",
        "#print(X)\n",
        "#print(y)\n",
        "report = pd.DataFrame()\n",
        "nofeats = [] \n",
        "chosen_feats = [] \n",
        "cvscore = [] \n",
        "estimator = linear_model.LogisticRegression(solver=\"liblinear\", multi_class=\"ovr\")\n",
        "\n",
        "for i in range(2,31):\n",
        "    selector = GeneticSelectionCV(  estimator,\n",
        "                                    cv=5,\n",
        "                                    verbose=1,\n",
        "                                    scoring=\"accuracy\",\n",
        "                                    max_features=i,\n",
        "                                    n_population=10*i,\n",
        "                                    crossover_proba=0.5,\n",
        "                                    mutation_proba=0.2,\n",
        "                                    n_generations=10,\n",
        "                                    crossover_independent_proba=0.5,\n",
        "                                    mutation_independent_proba=0.05,\n",
        "                                    #tournament_size=3,\n",
        "                                    n_gen_no_change=10,\n",
        "                                    caching=True,\n",
        "                                    n_jobs=-1)\n",
        "    selector = selector.fit(xtrain, ytrain)\n",
        "    genfeats = xtrain.columns[selector.support_]\n",
        "    genfeats = list(genfeats)\n",
        "    print(\"Subset features choosed:\",genfeats)\n",
        "    cv_score = selector.generation_scores_[-1]\n",
        "    nofeats.append(len(genfeats)) \n",
        "    chosen_feats.append(genfeats) \n",
        "    cvscore.append(cv_score)\n",
        "    \n",
        "report[\"No of Feats\"] = nofeats\n",
        "report[\"Chosen Feats\"] = chosen_feats\n",
        "report[\"Scores\"] = cvscore\n"
      ],
      "execution_count": null,
      "outputs": [
        {
          "output_type": "stream",
          "text": [
            "Selecting features with genetic algorithm.\n",
            "gen\tnevals\tavg                    \tstd                    \tmin                    \tmax                    \n",
            "0  \t200   \t[0.77289011 1.575     ]\t[0.11194481 0.494343  ]\t[0.63736264 1.        ]\t[0.93846154 2.        ]\n",
            "1  \t109   \t[-1.94930934e+03  1.89000000e+00]\t[3.96234699e+03 9.26228913e-01]\t[-10000.      0.]      \t[0.93846154 5.        ]\n",
            "2  \t103   \t[-2.49933054e+03  2.09000000e+00]\t[4.33051353e+03 1.04494019e+00]\t[-10000.      0.]      \t[0.93846154 7.        ]\n",
            "3  \t108   \t[-2.99936896e+03  2.22500000e+00]\t[4.58298881e+03 1.16377618e+00]\t[-10000.      0.]      \t[0.93846154 7.        ]\n",
            "4  \t120   \t[-2.59932871e+03  2.16500000e+00]\t[4.38674034e+03 9.93868704e-01]\t[-10000.      0.]      \t[0.93846154 7.        ]\n",
            "5  \t117   \t[-2.59932298e+03  2.23500000e+00]\t[4.38674374e+03 1.04870158e+00]\t[-10000.      0.]      \t[0.93846154 7.        ]\n",
            "6  \t120   \t[-2049.27649451     2.1       ]  \t[4.03738362e+03 9.59166305e-01]\t[-10000.      0.]      \t[0.93846154 8.        ]\n",
            "7  \t123   \t[-2.74933424e+03  2.25000000e+00]\t[4.46555280e+03 9.68245837e-01]\t[-10000.      0.]      \t[0.93846154 6.        ]\n",
            "8  \t108   \t[-1699.22997802     2.155     ]  \t[3.75667648e+03 7.14825153e-01]\t[-10000.      0.]      \t[0.93846154 6.        ]\n",
            "9  \t117   \t[-1449.20106593     2.23      ]  \t[3.52133739e+03 8.81532756e-01]\t[-10000.      0.]      \t[0.93846154 8.        ]\n",
            "10 \t117   \t[-1099.16553846     2.215     ]  \t[3.12919093e+03 7.40793493e-01]\t[-1.e+04  1.e+00]      \t[0.93846154 7.        ]\n",
            "Subset features choosed: ['radius_worst', 'concavity_worst']\n",
            "Selecting features with genetic algorithm.\n",
            "gen\tnevals\tavg                    \tstd                    \tmin                    \tmax                    \n",
            "0  \t200   \t[0.79743956 2.03      ]\t[0.11049455 0.78044859]\t[0.63736264 1.        ]\t[0.94065934 3.        ]\n",
            "1  \t120   \t[-2149.31104396     2.635     ]\t[4.10858402e+03 1.31216424e+00]\t[-10000.      0.]      \t[0.94065934 9.        ]\n",
            "2  \t134   \t[-2249.30205495     2.78      ]\t[4.17619934e+03 1.27342059e+00]\t[-10000.      0.]      \t[0.94065934 7.        ]\n",
            "3  \t122   \t[-2199.29168132     2.785     ]\t[4.14283921e+03 1.23238590e+00]\t[-1.e+04  1.e+00]      \t[0.94065934 8.        ]\n",
            "4  \t127   \t[-1799.25227473     2.76      ]\t[3.84222487e+03 1.04995238e+00]\t[-1.e+04  1.e+00]      \t[0.94285714 7.        ]\n",
            "5  \t116   \t[-1799.24443956     2.845     ]\t[3.84222854e+03 1.15800475e+00]\t[-10000.      0.]      \t[0.94285714 7.        ]\n",
            "6  \t126   \t[-1649.22651648     2.89      ]\t[3.71214933e+03 1.07140095e+00]\t[-1.e+04  1.e+00]      \t[0.94285714 7.        ]\n",
            "7  \t114   \t[-1299.18448352     2.93      ]\t[3.36334959e+03 8.57379729e-01]\t[-10000.      0.]      \t[0.94285714 8.        ]\n",
            "8  \t117   \t[-1399.19173626     3.12      ]\t[3.47019643e+03 7.18052923e-01]\t[-1.e+04  2.e+00]      \t[0.94285714 6.        ]\n",
            "9  \t105   \t[-1249.17850549     3.17      ]\t[3.30749963e+03 7.81728853e-01]\t[-1.e+04  1.e+00]      \t[0.94285714 8.        ]\n",
            "10 \t116   \t[-1649.21672527     3.185     ]\t[3.71215368e+03 7.94213447e-01]\t[-1.e+04  1.e+00]      \t[0.94285714 8.        ]\n",
            "Subset features choosed: ['radius_mean', 'perimeter_mean', 'radius_worst']\n",
            "Selecting features with genetic algorithm.\n",
            "gen\tnevals\tavg                    \tstd                    \tmin                    \tmax                    \n",
            "0  \t200   \t[0.80508791 2.445     ]\t[0.10500702 1.13003319]\t[0.63736264 1.        ]\t[0.93846154 4.        ]\n",
            "1  \t126   \t[-1749.27296703     3.305     ]\t[3.80000589e+03 1.38635313e+00]\t[-1.e+04  1.e+00]      \t[0.94505495 8.        ]\n",
            "2  \t114   \t[-899.1772967    3.17     ]    \t[2.86207633e+03 1.20875969e+00]\t[-1.e+04  1.e+00]      \t[0.94505495 7.        ]\n",
            "3  \t126   \t[-1349.20797802     3.305     ]\t[3.41754862e+03 1.18826554e+00]\t[-1.e+04  1.e+00]      \t[0.94505495 7.        ]\n",
            "4  \t118   \t[-1499.21583516     3.38      ]\t[3.57104363e+03 1.30980915e+00]\t[-10000.      0.]      \t[0.94505495 9.        ]\n",
            "5  \t122   \t[-1599.22053846     3.445     ]\t[3.66640074e+03 1.19036759e+00]\t[-10000.      0.]      \t[0.94725275 8.        ]\n",
            "6  \t111   \t[-1049.16761538     3.405     ]\t[3.06581932e+03 1.05876107e+00]\t[-1.e+04  1.e+00]      \t[0.94725275 7.        ]\n",
            "7  \t110   \t[-1449.20514286     3.515     ]\t[3.52133571e+03 1.14445402e+00]\t[-1.e+04  1.e+00]      \t[0.95164835 7.        ]\n",
            "8  \t123   \t[-1549.21142857     3.67      ]\t[3.61938457e+03 1.07289328e+00]\t[-1.e+04  1.e+00]      \t[0.95164835 7.        ]\n",
            "9  \t123   \t[-1549.20871429     3.77      ]\t[3.61938574e+03 9.83412426e-01]\t[-1.e+04  1.e+00]      \t[0.95164835 8.        ]\n",
            "10 \t120   \t[-2049.25285714     3.915     ]\t[4.03739562e+03 9.63210777e-01]\t[-1.e+04  1.e+00]      \t[0.95164835 8.        ]\n",
            "Subset features choosed: ['radius_mean', 'perimeter_mean', 'radius_worst', 'concavity_worst']\n",
            "Selecting features with genetic algorithm.\n",
            "gen\tnevals\tavg                    \tstd                    \tmin                    \tmax                    \n",
            "0  \t200   \t[0.81857143 3.        ]\t[0.10548529 1.46969385]\t[0.63736264 1.        ]\t[0.94065934 5.        ]\n",
            "1  \t134   \t[-1349.23258242     3.93      ]\t[3.41753890e+03 1.67484328e+00]\t[-10000.      0.]      \t[0.94065934 9.        ]\n",
            "2  \t122   \t[-1499.23323077     4.18      ]\t[3.57103632e+03 1.56448074e+00]\t[-1.e+04  1.e+00]      \t[0.94065934 9.        ]\n",
            "3  \t100   \t[-1149.19041758     4.21      ]\t[3.19051126e+03 1.40566710e+00]\t[-10000.      0.]      \t[0.94285714 9.        ]\n",
            "4  \t112   \t[-1399.20754945     4.38      ]\t[3.47019005e+03 1.28670121e+00]\t[-1.e+04  1.e+00]      \t[0.94505495 8.        ]\n",
            "5  \t115   \t[-1549.21537363     4.515     ]\t[3.61938288e+03 1.26086280e+00]\t[-1.e+04  1.e+00]      \t[0.94505495 9.        ]\n",
            "6  \t125   \t[-2149.27083516     4.63      ]\t[4.10860506e+03 1.23818415e+00]\t[-1.e+04  2.e+00]      \t[0.94725275 9.        ]\n",
            "7  \t124   \t[-1749.23020879     4.58      ]\t[3.80002558e+03 1.33551488e+00]\t[-1.e+04  2.e+00]      \t[ 0.95384615 12.        ]\n",
            "8  \t119   \t[-1299.18498901     4.545     ]\t[3.36334939e+03 1.04306040e+00]\t[-1.e+04  2.e+00]      \t[0.95384615 8.        ]  \n",
            "9  \t131   \t[-1649.21510989     4.73      ]\t[3.71215440e+03 1.06164966e+00]\t[-1.e+04  2.e+00]      \t[0.95384615 8.        ]  \n",
            "10 \t123   \t[-1899.23613187     4.795     ]\t[3.92337901e+03 9.65906310e-01]\t[-1.e+04  2.e+00]      \t[0.95384615 8.        ]  \n",
            "Subset features choosed: ['radius_mean', 'texture_se', 'area_worst', 'compactness_worst', 'concavity_worst']\n",
            "Selecting features with genetic algorithm.\n",
            "gen\tnevals\tavg                    \tstd                    \tmin                    \tmax                    \n",
            "0  \t200   \t[0.82597802 3.36      ]\t[0.10206153 1.69127171]\t[0.63736264 1.        ]\t[0.93626374 6.        ]\n",
            "1  \t126   \t[-649.16924176    4.32      ]\t[2.46547765e+03 1.69634902e+00]\t[-1.e+04  1.e+00]      \t[0.93846154 9.        ]\n",
            "2  \t94    \t[-1099.18524176     4.835     ]\t[3.12918401e+03 1.58989780e+00]\t[-1.e+04  1.e+00]      \t[ 0.94505495 11.        ]\n",
            "3  \t112   \t[-699.14212088    4.84      ]  \t[2.55170553e+03 1.41929560e+00]\t[-1.e+04  1.e+00]      \t[ 0.94505495 10.        ]\n",
            "4  \t136   \t[-1449.20838462     4.935     ]\t[3.52133438e+03 1.38592027e+00]\t[-1.e+04  2.e+00]      \t[ 0.94945055 10.        ]\n",
            "5  \t115   \t[-1049.16854945     4.915     ]\t[3.06581900e+03 1.42399965e+00]\t[-1.e+04  1.e+00]      \t[ 0.95384615 10.        ]\n",
            "6  \t108   \t[-1249.18152747     4.98      ]\t[3.30749849e+03 1.37825977e+00]\t[-1.e+04  1.e+00]      \t[0.95384615 8.        ]  \n",
            "7  \t136   \t[-1399.19279121     5.165     ]\t[3.47019600e+03 1.43100489e+00]\t[-1.e+04  2.e+00]      \t[ 0.95384615 10.        ]\n",
            "8  \t113   \t[-1599.20985714     5.39      ]\t[3.66640540e+03 1.30303492e+00]\t[-1.e+04  3.e+00]      \t[0.95604396 9.        ]  \n",
            "9  \t106   \t[-799.13317582    5.315     ]  \t[2.71318761e+03 1.10714724e+00]\t[-1.e+04  2.e+00]      \t[0.95824176 9.        ]  \n",
            "10 \t124   \t[-1549.20084615     5.655     ]\t[3.61938911e+03 1.03246065e+00]\t[-1.e+04  3.e+00]      \t[0.95824176 9.        ]  \n",
            "Subset features choosed: ['radius_mean', 'texture_mean', 'area_mean', 'radius_worst', 'perimeter_worst', 'compactness_worst']\n",
            "Selecting features with genetic algorithm.\n",
            "gen\tnevals\tavg                    \tstd                    \tmin                    \tmax                    \n",
            "0  \t200   \t[0.85037363 3.835     ]\t[0.09046629 2.00443882]\t[0.63736264 1.        ]\t[0.95164835 7.        ]\n",
            "1  \t135   \t[-949.1778022    5.025    ]\t[2.93241577e+03 1.94277508e+00]\t[-10000.      0.]      \t[ 0.95164835 10.        ]\n",
            "2  \t120   \t[-899.16549451    5.425     ]\t[2.86208004e+03 1.73331330e+00]\t[-1.e+04  1.e+00]      \t[ 0.95164835 10.        ]\n",
            "3  \t108   \t[-849.14905495    5.695     ]\t[2.78907631e+03 1.52051800e+00]\t[-1.e+04  2.e+00]      \t[ 0.95164835 10.        ]\n",
            "4  \t127   \t[-1249.18221978     6.        ]\t[3.30749823e+03 1.54596248e+00]\t[-1.e+04  2.e+00]      \t[ 0.95164835 12.        ]\n",
            "5  \t121   \t[-1549.20653846     6.15      ]\t[3.61938667e+03 1.47901995e+00]\t[-1.e+04  2.e+00]      \t[ 0.95824176 10.        ]\n",
            "6  \t98    \t[-949.1466044    6.175    ]    \t[2.93242588e+03 1.44026907e+00]\t[-1.e+04  3.e+00]      \t[ 0.95824176 12.        ]\n",
            "7  \t124   \t[-1149.16318681     6.41      ]\t[3.19052108e+03 1.16700471e+00]\t[-1.e+04  3.e+00]      \t[ 0.96043956 10.        ]\n",
            "8  \t117   \t[-1599.20415385     6.57      ]\t[3.66640789e+03 1.43356200e+00]\t[-1.e+04  3.e+00]      \t[ 0.96263736 13.        ]\n",
            "9  \t114   \t[-1099.15737363     6.44      ]\t[3.12919380e+03 1.27137721e+00]\t[-1.e+04  2.e+00]      \t[ 0.96263736 11.        ]\n",
            "10 \t129   \t[-1899.23256044     6.685     ]\t[3.92338074e+03 1.35859302e+00]\t[-1.e+04  3.e+00]      \t[ 0.96263736 11.        ]\n",
            "Subset features choosed: ['radius_mean', 'area_mean', 'concavity_mean', 'texture_worst', 'perimeter_worst', 'concavity_worst']\n",
            "Selecting features with genetic algorithm.\n",
            "gen\tnevals\tavg                    \tstd                    \tmin                    \tmax                    \n",
            "0  \t200   \t[0.85362637 4.415     ]\t[0.09677595 2.25006111]\t[0.63736264 1.        ]\t[0.95384615 8.        ]\n",
            "1  \t106   \t[-949.17008791    6.055     ]\t[2.93241827e+03 2.09092683e+00]\t[-1.e+04  1.e+00]      \t[ 0.95384615 13.        ]\n",
            "2  \t119   \t[-849.15573626    6.245     ]\t[2.78907428e+03 1.84796510e+00]\t[-1.e+04  2.e+00]      \t[ 0.95384615 11.        ]\n",
            "3  \t112   \t[-799.14153846    6.215     ]\t[2.71318514e+03 1.72010901e+00]\t[-1.e+04  2.e+00]      \t[ 0.95604396 11.        ]\n",
            "4  \t119   \t[-449.1036044    6.3      ]  \t[2.07323583e+03 1.46628783e+00]\t[-1.e+04  2.e+00]      \t[ 0.95824176 11.        ]\n",
            "5  \t113   \t[-399.09169231    6.555     ]\t[1.9597772e+03 1.2153086e+00]  \t[-1.e+04  3.e+00]      \t[ 0.95824176 10.        ]\n",
            "6  \t109   \t[-249.07186813    6.535     ]\t[1.56139812e+03 9.89330582e-01]\t[-1.e+04  4.e+00]      \t[0.95824176 9.        ]  \n",
            "7  \t114   \t[-449.08879121    6.69      ]\t[2.07323904e+03 9.96945335e-01]\t[-1.e+04  5.e+00]      \t[ 0.95824176 11.        ]\n",
            "8  \t118   \t[-649.10723077    6.81      ]\t[2.46549400e+03 1.10630014e+00]\t[-1.e+04  5.e+00]      \t[ 0.95824176 11.        ]\n",
            "9  \t102   \t[-599.1011978    6.7      ]  \t[2.37509550e+03 1.07703296e+00]\t[-1.e+04  5.e+00]      \t[ 0.95824176 10.        ]\n",
            "10 \t104   \t[-249.06776923    6.585     ]\t[1.56139878e+03 9.76101941e-01]\t[-1.e+04  4.e+00]      \t[ 0.95824176 10.        ]\n",
            "Subset features choosed: ['radius_mean', 'perimeter_mean', 'texture_se', 'area_worst', 'compactness_worst', 'concavity_worst']\n",
            "Selecting features with genetic algorithm.\n",
            "gen\tnevals\tavg                    \tstd                    \tmin                    \tmax                    \n",
            "0  \t200   \t[0.86997802 4.97      ]\t[0.08103081 2.49180657]\t[0.63736264 1.        ]\t[0.95384615 9.        ]\n",
            "1  \t116   \t[-749.15086813    6.7       ]\t[2.63415523e+03 2.30217289e+00]\t[-1.e+04  1.e+00]      \t[ 0.95384615 14.        ]\n",
            "2  \t134   \t[-799.14672527    7.16      ]\t[2.71318361e+03 2.06746221e+00]\t[-1.e+04  2.e+00]      \t[ 0.96043956 14.        ]\n",
            "3  \t131   \t[-1099.16357143     7.705     ]\t[3.12919163e+03 1.77143304e+00]\t[-1.e+04  3.e+00]      \t[ 0.96043956 12.        ]\n",
            "4  \t124   \t[-1049.15501099     8.005     ]\t[3.06582363e+03 1.57002389e+00]\t[-1.e+04  4.e+00]      \t[ 0.96043956 13.        ]\n",
            "5  \t93    \t[-949.1423956    8.32     ]    \t[2.93242724e+03 1.33326666e+00]\t[-1.e+04  4.e+00]      \t[ 0.96043956 12.        ]\n",
            "6  \t110   \t[-1349.17813187     8.38      ]\t[3.41756041e+03 1.33626345e+00]\t[-1.e+04  5.e+00]      \t[ 0.96043956 12.        ]\n",
            "7  \t121   \t[-1799.22047253     8.36      ]\t[3.84223977e+03 1.57810012e+00]\t[-1.e+04  5.e+00]      \t[ 0.96043956 14.        ]\n",
            "8  \t125   \t[-999.14401099    7.985     ]  \t[3.00028533e+03 1.48147730e+00]\t[-1.e+04  5.e+00]      \t[ 0.96263736 14.        ]\n",
            "9  \t113   \t[-799.12274725    7.875     ]  \t[2.71319068e+03 1.38901944e+00]\t[-1.e+04  4.e+00]      \t[ 0.96263736 12.        ]\n",
            "10 \t125   \t[-899.132    7.745]            \t[2.86209058e+03 1.50995861e+00]\t[-1.e+04  4.e+00]      \t[ 0.96263736 12.        ]\n",
            "Subset features choosed: ['radius_mean', 'area_mean', 'concavity_mean', 'concavity_se', 'texture_worst', 'perimeter_worst', 'concavity_worst']\n",
            "Selecting features with genetic algorithm.\n",
            "gen\tnevals\tavg                    \tstd                    \tmin                    \tmax                      \n",
            "0  \t200   \t[0.86595604 5.09      ]\t[0.08547303 2.81813768]\t[0.63736264 1.        ]\t[ 0.95384615 10.        ]\n",
            "1  \t112   \t[-499.12950549    6.905     ]\t[2179.64917708    2.47304974]\t[-1.e+04  1.e+00]      \t[ 0.95384615 12.        ]\n",
            "2  \t115   \t[-449.11367033    7.415     ]\t[2.07323364e+03 1.98059966e+00]\t[-1.e+04  2.e+00]      \t[ 0.95824176 13.        ]\n",
            "3  \t127   \t[-699.1273956    7.835    ]  \t[2.55170956e+03 1.92035804e+00]\t[-1.e+04  3.e+00]      \t[ 0.95824176 14.        ]\n",
            "4  \t119   \t[-549.10971429    7.885     ]\t[2.28001740e+03 1.73256313e+00]\t[-1.e+04  2.e+00]      \t[ 0.95824176 12.        ]\n",
            "5  \t122   \t[-849.13401099    8.43      ]\t[2.78908090e+03 1.74215384e+00]\t[-1.e+04  3.e+00]      \t[ 0.95824176 13.        ]\n",
            "6  \t124   \t[-899.1368022    8.705    ]  \t[2.86208907e+03 1.40995567e+00]\t[-1.e+04  4.e+00]      \t[ 0.95824176 12.        ]\n",
            "7  \t118   \t[-749.1217033    8.715    ]  \t[2.63416353e+03 1.46074467e+00]\t[-1.e+04  5.e+00]      \t[ 0.96043956 13.        ]\n",
            "8  \t118   \t[-949.13871429    8.8       ]\t[2.93242843e+03 1.53622915e+00]\t[-1.e+04  5.e+00]      \t[ 0.96263736 14.        ]\n",
            "9  \t118   \t[-799.12351648    8.82      ]\t[2.71319045e+03 1.37389956e+00]\t[-1.e+04  4.e+00]      \t[ 0.96263736 13.        ]\n",
            "10 \t122   \t[-1049.1453956     8.915    ]\t[3.06582693e+03 1.38844337e+00]\t[-1.e+04  5.e+00]      \t[ 0.96263736 14.        ]\n",
            "Subset features choosed: ['radius_mean', 'texture_mean', 'area_mean', 'radius_se', 'texture_se', 'symmetry_se', 'perimeter_worst', 'compactness_worst', 'concavity_worst']\n",
            "Selecting features with genetic algorithm.\n",
            "gen\tnevals\tavg                    \tstd                    \tmin                    \tmax                      \n",
            "0  \t200   \t[0.87402198 5.87      ]\t[0.08425147 3.11658467]\t[0.63736264 1.        ]\t[ 0.94945055 11.        ]\n",
            "1  \t115   \t[-249.10550549    7.57      ]\t[1561.39273384    2.46477179]\t[-1.e+04  1.e+00]      \t[ 0.95384615 13.        ]\n",
            "2  \t99    \t[-349.09896703    8.085     ]\t[1837.96919257    2.19038239]\t[-1.e+04  1.e+00]      \t[ 0.95824176 14.        ]\n",
            "3  \t126   \t[-749.13064835    8.56      ]\t[2.63416098e+03 2.11575046e+00]\t[-1.e+04  4.e+00]      \t[ 0.95824176 15.        ]\n",
            "4  \t113   \t[-449.0993956    8.525    ]  \t[2.07323674e+03 1.90771460e+00]\t[-1.e+04  4.e+00]      \t[ 0.95824176 14.        ]\n",
            "5  \t130   \t[-399.09006593    8.75      ]\t[1.95977753e+03 1.62403818e+00]\t[-1.e+04  5.e+00]      \t[ 0.95824176 15.        ]\n",
            "6  \t127   \t[-349.08303297    8.84      ]\t[1.83797223e+03 1.43680200e+00]\t[-1.e+04  5.e+00]      \t[ 0.96043956 13.        ]\n",
            "7  \t136   \t[-249.07152747    8.735     ]\t[1.56139817e+03 1.48821201e+00]\t[-1.e+04  5.e+00]      \t[ 0.96263736 13.        ]\n",
            "8  \t120   \t[-249.07020879    8.695     ]\t[1.56139839e+03 1.49732261e+00]\t[-1.e+04  5.e+00]      \t[ 0.96263736 14.        ]\n",
            "9  \t118   \t[-299.07435165    8.795     ]\t[1.70603500e+03 1.51095169e+00]\t[-1.e+04  5.e+00]      \t[ 0.96263736 13.        ]\n",
            "10 \t113   \t[-949.13631868    9.12      ]\t[2.93242921e+03 1.69280832e+00]\t[-1.e+04  5.e+00]      \t[ 0.96263736 14.        ]\n",
            "Subset features choosed: ['radius_mean', 'texture_mean', 'concavity_mean', 'concave points_se', 'radius_worst', 'perimeter_worst', 'area_worst', 'smoothness_worst', 'compactness_worst', 'concavity_worst', 'concave points_worst']\n",
            "Selecting features with genetic algorithm.\n",
            "gen\tnevals\tavg                    \tstd                    \tmin                    \tmax                      \n",
            "0  \t200   \t[0.88149451 6.755     ]\t[0.07911855 3.44890925]\t[0.63736264 1.        ]\t[ 0.96043956 12.        ]\n",
            "1  \t114   \t[-499.12063736    8.675     ]\t[2179.65121152    2.78376993]\t[-1.e+04  1.e+00]      \t[ 0.96043956 14.        ]\n",
            "2  \t113   \t[-399.10295604    9.4       ]\t[1959.77490261    2.13541565]\t[-1.e+04  3.e+00]      \t[ 0.96043956 16.        ]\n",
            "3  \t126   \t[-749.12934066    9.57      ]\t[2.63416136e+03 1.99125589e+00]\t[-1.e+04  5.e+00]      \t[ 0.96043956 15.        ]\n",
            "4  \t115   \t[-399.09317582    9.615     ]\t[1.95977690e+03 1.70785684e+00]\t[-1.e+04  5.e+00]      \t[ 0.96043956 14.        ]\n",
            "5  \t125   \t[-599.10856044    9.735     ]\t[2.37509364e+03 1.70727121e+00]\t[-1.e+04  5.e+00]      \t[ 0.96043956 15.        ]\n",
            "6  \t120   \t[-399.08662637    9.64      ]\t[1.95977824e+03 1.77493662e+00]\t[-1.e+04  5.e+00]      \t[ 0.96263736 16.        ]\n",
            "7  \t124   \t[-249.07082418    9.605     ]\t[1561.39828683    1.77171527]  \t[-1.e+04  5.e+00]      \t[ 0.96263736 14.        ]\n",
            "8  \t122   \t[-599.10173626    9.41      ]\t[2.37509536e+03 1.75837994e+00]\t[-1.e+04  5.e+00]      \t[ 0.96263736 14.        ]\n",
            "9  \t114   \t[-149.0577033    8.955    ]  \t[1215.64086086    1.46389036]  \t[-1.e+04  6.e+00]      \t[ 0.96483516 14.        ]\n",
            "10 \t127   \t[-149.05662637    8.92      ]\t[1215.64099375    1.42253295]  \t[-1.e+04  5.e+00]      \t[ 0.96483516 13.        ]\n",
            "Subset features choosed: ['radius_mean', 'texture_mean', 'area_mean', 'texture_se', 'perimeter_se', 'area_se', 'compactness_se', 'fractal_dimension_se', 'perimeter_worst', 'compactness_worst', 'concavity_worst']\n",
            "Selecting features with genetic algorithm.\n",
            "gen\tnevals\tavg                    \tstd                    \tmin                    \tmax                      \n",
            "0  \t200   \t[0.88527473 7.18      ]\t[0.08024808 3.72257975]\t[0.63736264 1.        ]\t[ 0.95824176 13.        ]\n",
            "1  \t138   \t[-849.14983516    9.34      ]\t[2789.0760742     3.25797483]\t[-1.e+04  1.e+00]      \t[ 0.95824176 17.        ]\n",
            "2  \t125   \t[-699.1270989    9.905    ]  \t[2551.7096463     2.71955419]\t[-1.e+04  2.e+00]      \t[ 0.95824176 18.        ]\n",
            "3  \t127   \t[-299.0859011   10.21     ]  \t[1706.03296725    2.04105365]\t[-1.e+04  4.e+00]      \t[ 0.95824176 15.        ]\n",
            "4  \t115   \t[-599.10884615   10.855     ]\t[2.37509356e+03 1.86117570e+00]\t[-1.e+04  5.e+00]      \t[ 0.96043956 16.        ]\n",
            "5  \t120   \t[-649.1121978   10.97     ]  \t[2.46549269e+03 1.70267437e+00]\t[-1.e+04  6.e+00]      \t[ 0.96263736 16.        ]\n",
            "6  \t116   \t[-799.1252967   10.64     ]  \t[2.71318993e+03 1.94689496e+00]\t[-1.e+04  6.e+00]      \t[ 0.96263736 16.        ]\n",
            "7  \t111   \t[-399.08706593   10.085     ]\t[1.95977815e+03 1.79102624e+00]\t[-1.e+04  5.e+00]      \t[ 0.96263736 15.        ]\n",
            "8  \t116   \t[-199.06575824   10.01      ]\t[1400.13346314    1.8894179 ]  \t[-1.e+04  5.e+00]      \t[ 0.96483516 17.        ]\n",
            "9  \t111   \t[-149.05952747    9.645     ]\t[1215.64063577    1.74613144]  \t[-1.e+04  6.e+00]      \t[ 0.96483516 15.        ]\n",
            "10 \t128   \t[-149.05724176    9.665     ]\t[1215.64091783    1.71836405]  \t[-1.e+04  6.e+00]      \t[ 0.96483516 15.        ]\n",
            "Subset features choosed: ['radius_mean', 'area_mean', 'compactness_mean', 'radius_se', 'texture_se', 'radius_worst', 'texture_worst', 'perimeter_worst', 'concavity_worst']\n",
            "Selecting features with genetic algorithm.\n",
            "gen\tnevals\tavg                    \tstd                    \tmin                    \tmax                      \n",
            "0  \t200   \t[0.88912088 7.755     ]\t[0.07631747 4.0317459 ]\t[0.63736264 1.        ]\t[ 0.95604396 14.        ]\n",
            "1  \t112   \t[-349.1000989   10.27     ]\t[1837.96897699    3.21979813]\t[-1.e+04  1.e+00]      \t[ 0.96043956 19.        ]\n",
            "2  \t125   \t[-599.11715385   11.135     ]\t[2375.09146461    2.51530813]\t[-1.e+04  4.e+00]      \t[ 0.96043956 18.        ]\n",
            "3  \t124   \t[-649.11773626   11.58      ]\t[2.46549123e+03 2.12922521e+00]\t[-1.e+04  7.e+00]      \t[ 0.96043956 16.        ]\n",
            "4  \t119   \t[-599.10925275   11.685     ]\t[2.37509346e+03 2.09183532e+00]\t[-1.e+04  7.e+00]      \t[ 0.96263736 17.        ]\n",
            "5  \t115   \t[-449.09340659   11.395     ]\t[2073.23804058    2.10688751]  \t[-1.e+04  7.e+00]      \t[ 0.96263736 17.        ]\n",
            "6  \t111   \t[-249.07085714   10.885     ]\t[1561.39828156    2.08129167]  \t[-1.e+04  5.e+00]      \t[ 0.96263736 17.        ]\n",
            "7  \t123   \t[-249.06850549   10.49      ]\t[1561.39865812    1.7435309 ]  \t[-1.e+04  7.e+00]      \t[ 0.96263736 16.        ]\n",
            "8  \t124   \t[-49.04669231  10.185     ]  \t[705.40437723   1.40740009]    \t[-1.e+04  6.e+00]      \t[ 0.96263736 15.        ]\n",
            "9  \t148   \t[ 0.95995604 10.53      ]    \t[0.00676752 1.31114454]        \t[0.9032967 8.       ]  \t[ 0.96263736 14.        ]\n",
            "10 \t121   \t[-49.04485714  10.67      ]  \t[705.40450733   1.33831984]    \t[-1.e+04  7.e+00]      \t[ 0.96483516 15.        ]\n",
            "Subset features choosed: ['radius_mean', 'texture_mean', 'area_mean', 'radius_se', 'texture_se', 'concavity_se', 'fractal_dimension_se', 'radius_worst', 'perimeter_worst', 'smoothness_worst', 'compactness_worst', 'concave points_worst', 'symmetry_worst']\n",
            "Selecting features with genetic algorithm.\n",
            "gen\tnevals\tavg                    \tstd                    \tmin                    \tmax                      \n",
            "0  \t200   \t[0.89642857 8.635     ]\t[0.07020798 4.33033197]\t[0.63736264 1.        ]\t[ 0.95604396 15.        ]\n",
            "1  \t128   \t[-449.10947253   11.415     ]\t[2073.23455315    3.13413066]\t[-1.e+04  2.e+00]      \t[ 0.95604396 19.        ]\n",
            "2  \t118   \t[-549.11072527   12.44      ]\t[2.28001716e+03 2.24641937e+00]\t[-1.e+04  6.e+00]      \t[ 0.95604396 19.        ]\n",
            "3  \t113   \t[-499.09963736   12.565     ]\t[2.17965603e+03 2.07021134e+00]\t[-1.e+04  6.e+00]      \t[ 0.95824176 19.        ]\n",
            "4  \t128   \t[-399.08712088   12.665     ]\t[1.95977813e+03 1.86621944e+00]\t[-1.e+04  7.e+00]      \t[ 0.96263736 17.        ]\n",
            "5  \t121   \t[-399.08495604   12.445     ]\t[1959.77857681    1.96137069]  \t[-1.e+04  8.e+00]      \t[ 0.96263736 17.        ]\n",
            "6  \t118   \t[-399.08336264   12.22      ]\t[1.95977890e+03 1.94976922e+00]\t[-1.e+04  8.e+00]      \t[ 0.96263736 17.        ]\n",
            "7  \t117   \t[-149.05776923   11.72      ]\t[1215.64085272    2.09083715]  \t[-1.e+04  7.e+00]      \t[ 0.96263736 17.        ]\n",
            "8  \t92    \t[-99.0513956  11.295    ]    \t[995.08277545   2.06590779]    \t[-1.e+04  7.e+00]      \t[ 0.96263736 16.        ]\n",
            "9  \t116   \t[-99.05101099  10.805     ]  \t[995.08281413   1.8939311 ]    \t[-1.e+04  7.e+00]      \t[ 0.96263736 16.        ]\n",
            "10 \t108   \t[-49.04559341  10.37      ]  \t[705.40445511   1.68911219]    \t[-1.e+04  6.e+00]      \t[ 0.96263736 16.        ]\n",
            "Subset features choosed: ['radius_mean', 'area_mean', 'smoothness_mean', 'compactness_mean', 'concave points_mean', 'texture_worst', 'perimeter_worst', 'concavity_worst']\n",
            "Selecting features with genetic algorithm.\n",
            "gen\tnevals\tavg                    \tstd                    \tmin                    \tmax                      \n",
            "0  \t200   \t[0.88751648 8.335     ]\t[0.07794882 4.60790354]\t[0.63736264 1.        ]\t[ 0.95824176 16.        ]\n",
            "1  \t135   \t[-249.09492308   11.1       ]\t[1561.39442799    3.1685959 ]\t[-1.e+04  4.e+00]      \t[ 0.95824176 19.        ]\n",
            "2  \t119   \t[-549.11328571   12.27      ]\t[2280.01654196    2.64520321]\t[-1.e+04  5.e+00]      \t[ 0.95824176 18.        ]\n",
            "3  \t121   \t[-199.07462637   12.63      ]\t[1400.13219626    2.35012766]\t[-1.e+04  6.e+00]      \t[ 0.95824176 21.        ]\n",
            "4  \t117   \t[-749.12305495   13.32      ]\t[2.63416315e+03 2.42437621e+00]\t[-1.e+04  6.e+00]      \t[ 0.96043956 20.        ]\n",
            "5  \t124   \t[-399.08915385   13.295     ]\t[1959.77771994    2.01692216]  \t[-1.e+04  7.e+00]      \t[ 0.96263736 20.        ]\n",
            "6  \t119   \t[-449.09274725   13.6       ]\t[2.07323818e+03 1.91049732e+00]\t[-1.e+04  8.e+00]      \t[ 0.96263736 20.        ]\n",
            "7  \t121   \t[-449.09264835   13.53      ]\t[2.07323821e+03 1.84908085e+00]\t[-1.e+04  9.e+00]      \t[ 0.96263736 19.        ]\n",
            "8  \t115   \t[-299.07691209   13.205     ]\t[1706.03454807    1.92690815]  \t[-1.e+04  8.e+00]      \t[ 0.96483516 19.        ]\n",
            "9  \t129   \t[-449.08957143   13.24      ]\t[2.07323887e+03 1.92675894e+00]\t[-1.e+04  9.e+00]      \t[ 0.96483516 17.        ]\n",
            "10 \t118   \t[-249.06952747   13.3       ]\t[1561.39849447    1.84661853]  \t[-1.e+04  8.e+00]      \t[ 0.96483516 18.        ]\n",
            "Subset features choosed: ['radius_mean', 'texture_mean', 'area_mean', 'smoothness_mean', 'concavity_mean', 'texture_se', 'concavity_se', 'fractal_dimension_se', 'radius_worst', 'perimeter_worst', 'compactness_worst', 'concave points_worst', 'symmetry_worst', 'fractal_dimension_worst']\n",
            "Selecting features with genetic algorithm.\n",
            "gen\tnevals\tavg                    \tstd                    \tmin                    \tmax                      \n",
            "0  \t200   \t[0.89972527 9.305     ]\t[0.06997211 5.12854512]\t[0.63736264 1.        ]\t[ 0.96263736 17.        ]\n",
            "1  \t113   \t[-299.09230769   12.33      ]\t[1706.03184057    3.47290944]\t[-1.e+04  4.e+00]      \t[ 0.96263736 19.        ]\n",
            "2  \t121   \t[-549.10835165   13.265     ]\t[2280.0177323     2.98241094]\t[-1.e+04  5.e+00]      \t[ 0.96263736 20.        ]\n",
            "3  \t105   \t[-399.08936264   13.805     ]\t[1959.77767732    2.40353386]\t[-1.e+04  7.e+00]      \t[ 0.96263736 20.        ]\n",
            "4  \t116   \t[-299.07681319   13.915     ]\t[1706.03456545    2.32115812]\t[-1.e+04  7.e+00]      \t[ 0.96263736 19.        ]\n",
            "5  \t109   \t[-199.06625275   13.615     ]\t[1400.13339251    2.64514177]\t[-1.e+04  6.e+00]      \t[ 0.96263736 21.        ]\n",
            "6  \t113   \t[-349.07663736   13.485     ]\t[1837.97344508    2.6494858 ]\t[-1.e+04  7.e+00]      \t[ 0.96263736 20.        ]\n",
            "7  \t126   \t[-199.06057143   12.695     ]\t[1400.1342041     2.64234271]\t[-1.e+04  7.e+00]      \t[ 0.96263736 18.        ]\n",
            "8  \t132   \t[-49.04661538  12.45      ]  \t[705.40438268   2.42847689]  \t[-1.e+04  6.e+00]      \t[ 0.96263736 18.        ]\n",
            "9  \t120   \t[-49.04485714  11.775     ]  \t[705.40450731   2.40091129]  \t[-1.e+04  6.e+00]      \t[ 0.96263736 18.        ]\n",
            "10 \t131   \t[ 0.95889011 10.81      ]    \t[0.01009028 2.13866781]      \t[0.8967033 7.       ]  \t[ 0.96263736 16.        ]\n",
            "Subset features choosed: ['radius_mean', 'texture_mean', 'area_mean', 'smoothness_mean', 'concavity_mean', 'fractal_dimension_mean', 'texture_se', 'perimeter_worst', 'compactness_worst', 'concave points_worst']\n",
            "Selecting features with genetic algorithm.\n",
            "gen\tnevals\tavg                    \tstd                    \tmin                    \tmax                      \n",
            "0  \t200   \t[0.90045055 8.855     ]\t[0.06981121 5.00539459]\t[0.63736264 1.        ]\t[ 0.95384615 18.        ]\n",
            "1  \t135   \t[-299.09083516   11.885     ]\t[1706.03209953    3.70429143]\t[-1.e+04  1.e+00]      \t[ 0.95604396 20.        ]\n",
            "2  \t114   \t[-99.06465934  13.285     ]  \t[995.08144243   2.74841318]  \t[-1.e+04  5.e+00]      \t[ 0.95824176 20.        ]\n",
            "3  \t117   \t[-99.0617033  13.905    ]    \t[995.08173952   2.07749248]  \t[-1.e+04  8.e+00]      \t[ 0.96043956 21.        ]\n",
            "4  \t111   \t[-49.05428571  13.635     ]  \t[705.40383895   2.02775122]  \t[-1.e+04  8.e+00]      \t[ 0.96263736 19.        ]\n",
            "5  \t105   \t[-99.05603297  13.635     ]  \t[995.08230938   2.03021551]  \t[-1.e+04  8.e+00]      \t[ 0.96263736 19.        ]\n",
            "6  \t120   \t[-49.05132967  13.365     ]  \t[705.40404851   1.87397305]  \t[-10000.     10.]      \t[ 0.96263736 19.        ]\n",
            "7  \t103   \t[ 0.95635165 12.955     ]    \t[0.00682041 1.77002119]      \t[0.91208791 9.        ]\t[ 0.96263736 18.        ]\n",
            "8  \t113   \t[ 0.95802198 12.15      ]    \t[0.00684149 1.49582753]      \t[0.8989011 9.       ]  \t[ 0.96263736 16.        ]\n",
            "9  \t131   \t[ 0.95862637 11.825     ]    \t[0.00859517 1.29783474]      \t[0.8989011 9.       ]  \t[ 0.96263736 16.        ]\n",
            "10 \t118   \t[ 0.95840659 11.535     ]    \t[0.01145166 1.38158424]      \t[0.89450549 9.        ]\t[ 0.96483516 18.        ]\n",
            "Subset features choosed: ['radius_mean', 'texture_mean', 'area_mean', 'smoothness_mean', 'compactness_mean', 'concavity_mean', 'texture_se', 'perimeter_se', 'area_se', 'compactness_se', 'symmetry_se', 'perimeter_worst', 'concavity_worst', 'symmetry_worst']\n",
            "Selecting features with genetic algorithm.\n",
            "gen\tnevals\tavg                    \tstd                    \tmin                    \tmax                      \n",
            "0  \t200   \t[0.90345055 9.98      ]\t[0.06690982 5.34037452]\t[0.63736264 1.        ]\t[ 0.95604396 19.        ]\n",
            "1  \t111   \t[-149.07597802   13.695     ]\t[1215.63860579    3.57658706]\t[-1.e+04  3.e+00]      \t[ 0.96043956 21.        ]\n",
            "2  \t124   \t[-99.06301099  14.555     ]  \t[995.08160809   3.06707923]  \t[-1.e+04  7.e+00]      \t[ 0.96043956 20.        ]\n",
            "3  \t118   \t[-149.06432967   14.545     ]\t[1215.64004314    2.50159449]\t[-1.e+04  8.e+00]      \t[ 0.96263736 21.        ]\n",
            "4  \t111   \t[-99.05684615  14.64      ]  \t[995.08222765   2.49407297]  \t[-1.e+04  9.e+00]      \t[ 0.96263736 20.        ]\n",
            "5  \t105   \t[-249.06987912   15.12      ]\t[1561.39843815    2.44450404]\t[-1.e+04  7.e+00]      \t[ 0.96263736 22.        ]\n",
            "6  \t106   \t[ 0.95506593 15.24      ]    \t[0.006748   2.06697847]      \t[ 0.92307692 10.        ]\t[ 0.96483516 19.        ]\n",
            "7  \t103   \t[-49.04825275  15.185     ]  \t[705.4042666    2.06658535]  \t[-1.e+04  9.e+00]        \t[ 0.96483516 20.        ]\n",
            "8  \t117   \t[-299.07206593   15.425     ]\t[1706.03540032    2.07469877]\t[-10000.     10.]        \t[ 0.96483516 20.        ]\n",
            "9  \t125   \t[-99.0521978  15.295    ]    \t[995.08269484   1.84877662]  \t[-10000.     10.]        \t[ 0.96483516 21.        ]\n",
            "10 \t116   \t[ 0.95842857 15.21      ]    \t[0.00677685 1.67209449]      \t[ 0.91868132 10.        ]\t[ 0.96483516 19.        ]\n",
            "Subset features choosed: ['radius_mean', 'texture_mean', 'area_mean', 'smoothness_mean', 'symmetry_mean', 'fractal_dimension_mean', 'texture_se', 'perimeter_se', 'area_se', 'concavity_se', 'perimeter_worst', 'concavity_worst', 'symmetry_worst', 'fractal_dimension_worst']\n",
            "Selecting features with genetic algorithm.\n",
            "gen\tnevals\tavg                      \tstd                    \tmin                    \tmax                      \n",
            "0  \t200   \t[ 0.90891209 10.555     ]\t[0.06143858 5.66806625]\t[0.63736264 1.        ]\t[ 0.95824176 20.        ]\n",
            "1  \t112   \t[-249.08392308   14.965     ]\t[1561.39618937    4.06986179]\t[-1.e+04  3.e+00]      \t[ 0.95824176 23.        ]\n",
            "2  \t107   \t[-299.08191209   16.235     ]\t[1706.03366874    3.03805448]\t[-1.e+04  7.e+00]      \t[ 0.95824176 21.        ]\n",
            "3  \t97    \t[-199.06889011   16.17      ]\t[1400.13301571    2.53201501]\t[-1.e+04  7.e+00]      \t[ 0.96263736 22.        ]\n",
            "4  \t111   \t[-149.06292308   15.92      ]\t[1215.64021673    2.1825673 ]\t[-10000.     10.]      \t[ 0.96263736 21.        ]\n",
            "5  \t127   \t[-49.05187912  15.54      ]  \t[705.40400956   1.88371972]  \t[-10000.     11.]      \t[ 0.96263736 21.        ]\n",
            "6  \t124   \t[ 0.95579121 15.045     ]    \t[0.00653889 1.79804755]      \t[ 0.90989011 11.        ]\t[ 0.96263736 20.        ]\n",
            "7  \t113   \t[ 0.95797802 15.025     ]    \t[0.00517563 1.67760991]      \t[ 0.91648352 11.        ]\t[ 0.96263736 20.        ]\n",
            "8  \t116   \t[ 0.95964835 15.475     ]    \t[0.00552099 1.75196318]      \t[ 0.91428571 11.        ]\t[ 0.96263736 20.        ]\n",
            "9  \t109   \t[ 0.95964835 15.39      ]    \t[0.00887063 1.73432984]      \t[ 0.8989011 10.       ]  \t[ 0.96483516 20.        ]\n",
            "10 \t123   \t[ 0.96117582 14.93      ]    \t[0.0054516  1.68377552]      \t[ 0.91428571 11.        ]\t[ 0.96483516 20.        ]\n",
            "Subset features choosed: ['radius_mean', 'texture_mean', 'area_mean', 'smoothness_mean', 'compactness_mean', 'concavity_mean', 'fractal_dimension_mean', 'texture_se', 'concave points_se', 'radius_worst', 'perimeter_worst', 'smoothness_worst', 'compactness_worst', 'symmetry_worst']\n",
            "Selecting features with genetic algorithm.\n",
            "gen\tnevals\tavg                      \tstd                    \tmin                    \tmax                      \n",
            "0  \t200   \t[ 0.90602198 11.445     ]\t[0.06611961 6.23433838]\t[0.63736264 1.        ]\t[ 0.96043956 21.        ]\n",
            "1  \t108   \t[-149.07307692   15.56      ]\t[1215.63896375    4.13961351]\t[-1.e+04  2.e+00]      \t[ 0.96043956 22.        ]\n",
            "2  \t125   \t[-249.07578022   16.52      ]\t[1561.39749323    2.86174772]\t[-1.e+04  8.e+00]      \t[ 0.96263736 24.        ]\n",
            "3  \t121   \t[-49.05387912  16.08      ]  \t[705.40386774   2.42355111]  \t[-1.e+04  8.e+00]      \t[ 0.96483516 22.        ]\n",
            "4  \t123   \t[ 0.95294505 15.75      ]    \t[0.0078082  2.16275288]      \t[0.89230769 9.        ]\t[ 0.96483516 21.        ]\n",
            "5  \t120   \t[ 0.95562637 15.9       ]    \t[0.00614359 2.31732605]      \t[ 0.92747253 10.        ]\t[ 0.96483516 21.        ]\n",
            "6  \t126   \t[ 0.95767033 15.56      ]    \t[0.0060996  1.98907013]      \t[ 0.92967033 11.        ]\t[ 0.96483516 21.        ]\n",
            "7  \t127   \t[ 0.95905495 14.96      ]    \t[0.00813576 1.77437313]      \t[ 0.8989011 12.       ]  \t[ 0.96483516 21.        ]\n",
            "8  \t104   \t[ 0.96056044 14.64      ]    \t[0.00691242 1.38938835]      \t[ 0.9010989 12.       ]  \t[ 0.96483516 19.        ]\n",
            "9  \t118   \t[ 0.96021978 14.055     ]    \t[0.0071892  1.43247164]      \t[ 0.9010989 10.       ]  \t[ 0.96483516 19.        ]\n",
            "10 \t120   \t[ 0.96091209 13.675     ]    \t[0.00728557 1.44200381]      \t[ 0.8989011 10.       ]  \t[ 0.96483516 18.        ]\n",
            "Subset features choosed: ['radius_mean', 'texture_mean', 'area_mean', 'smoothness_mean', 'texture_se', 'concave points_se', 'radius_worst', 'perimeter_worst', 'compactness_worst', 'concave points_worst', 'symmetry_worst']\n",
            "Selecting features with genetic algorithm.\n",
            "gen\tnevals\tavg                    \tstd                    \tmin                    \tmax                      \n",
            "0  \t200   \t[ 0.9063956 11.51     ]\t[0.06834748 6.23858157]\t[0.63736264 1.        ]\t[ 0.95604396 22.        ]\n",
            "1  \t125   \t[-199.07834066   16.495     ]\t[1400.13166571    4.09633678]\t[-1.e+04  5.e+00]      \t[ 0.95604396 25.        ]\n",
            "2  \t123   \t[-49.05748352  17.185     ]  \t[705.40361224   2.97502521]  \t[-1.e+04  9.e+00]      \t[ 0.95824176 23.        ]\n",
            "3  \t108   \t[-49.05510989  16.47      ]  \t[705.4037805    2.76027173]  \t[-10000.     11.]      \t[ 0.96043956 24.        ]\n",
            "4  \t133   \t[ 0.95104396 15.67      ]    \t[0.00874145 2.51616772]      \t[ 0.89010989 10.        ]\t[ 0.96263736 22.        ]\n",
            "5  \t121   \t[-49.05354945  15.115     ]  \t[705.40389118   2.37313611]  \t[-1.e+04  8.e+00]        \t[ 0.96263736 23.        ]\n",
            "6  \t128   \t[ 0.95337363 15.06      ]    \t[0.00980643 2.2374986 ]      \t[0.90989011 9.        ]  \t[ 0.96263736 20.        ]\n",
            "7  \t127   \t[ 0.95601099 15.05      ]    \t[0.00783688 2.14883689]      \t[ 0.91428571 10.        ]\t[ 0.96483516 20.        ]\n",
            "8  \t117   \t[ 0.9570989 14.8      ]      \t[0.01091615 2.        ]      \t[ 0.89230769 10.        ]\t[ 0.96483516 21.        ]\n",
            "9  \t90    \t[ 0.95943956 14.755     ]    \t[0.0088126 1.9912245]        \t[ 0.8967033 10.       ]  \t[ 0.96483516 20.        ]\n",
            "10 \t126   \t[ 0.95985714 14.93      ]    \t[0.00641321 1.76496459]      \t[0.90769231 9.        ]  \t[ 0.96483516 19.        ]\n",
            "Subset features choosed: ['radius_mean', 'texture_mean', 'area_mean', 'smoothness_mean', 'concavity_mean', 'symmetry_mean', 'fractal_dimension_mean', 'texture_se', 'perimeter_se', 'area_se', 'smoothness_se', 'concave points_se', 'perimeter_worst', 'smoothness_worst', 'concavity_worst']\n",
            "Selecting features with genetic algorithm.\n",
            "gen\tnevals\tavg                      \tstd                    \tmin                    \tmax                      \n",
            "0  \t200   \t[ 0.90301099 12.135     ]\t[0.07821716 6.75327883]\t[0.63736264 1.        ]\t[ 0.96043956 23.        ]\n",
            "1  \t116   \t[-49.06242857  17.1       ]\t[705.40326182   4.06324993]\t[-1.e+04  4.e+00]      \t[ 0.96043956 25.        ]\n",
            "2  \t130   \t[-49.05664835  17.465     ]\t[705.40367144   3.04282352]\t[-1.e+04  9.e+00]      \t[ 0.96043956 25.        ]\n",
            "3  \t133   \t[-49.05369231  17.455     ]\t[705.40388099   2.68103991]\t[-10000.     10.]      \t[ 0.96483516 25.        ]\n",
            "4  \t134   \t[-49.05110989  17.1       ]\t[705.40406405   2.47991935]\t[-10000.     10.]      \t[ 0.96483516 25.        ]\n",
            "5  \t96    \t[ 0.95634066 16.97      ]  \t[0.00661052 2.07342711]    \t[ 0.91648352 11.        ]\t[ 0.96483516 22.        ]\n",
            "6  \t116   \t[ 0.95697802 16.715     ]  \t[0.00962135 2.0158807 ]    \t[ 0.8967033 11.       ]  \t[ 0.96703297 22.        ]\n",
            "7  \t130   \t[ 0.95968132 16.52      ]  \t[0.00463938 1.9923855 ]    \t[ 0.93406593 12.        ]\t[ 0.96703297 22.        ]\n",
            "8  \t132   \t[ 0.9596044 16.08     ]    \t[0.00677608 2.33100837]    \t[ 0.92087912 11.        ]\t[ 0.96703297 23.        ]\n",
            "9  \t117   \t[ 0.95983516 16.44      ]  \t[0.0077453  2.11101871]    \t[ 0.92087912 11.        ]\t[ 0.96703297 21.        ]\n",
            "10 \t121   \t[ 0.95993407 16.465     ]  \t[0.00873529 2.11867293]    \t[ 0.90549451 11.        ]\t[ 0.96703297 21.        ]\n",
            "Subset features choosed: ['radius_mean', 'area_mean', 'concavity_mean', 'concave points_mean', 'symmetry_mean', 'radius_se', 'concavity_se', 'texture_worst', 'perimeter_worst', 'smoothness_worst', 'compactness_worst', 'concavity_worst', 'concave points_worst', 'fractal_dimension_worst']\n",
            "Selecting features with genetic algorithm.\n",
            "gen\tnevals\tavg                      \tstd                    \tmin                    \tmax                      \n",
            "0  \t200   \t[ 0.91257143 12.55      ]\t[0.06729014 7.23377495]\t[0.63736264 1.        ]\t[ 0.95824176 24.        ]\n",
            "1  \t119   \t[ 0.94220879 16.62      ]\t[0.01244002 5.03841245]\t[0.87472527 2.        ]\t[ 0.95824176 24.        ]\n",
            "2  \t114   \t[-49.05584615  18.145     ]\t[705.4037283    3.78338142]\t[-1.e+04  5.e+00]      \t[ 0.95824176 27.        ]\n",
            "3  \t127   \t[-49.05426374  17.735     ]\t[705.40384048   3.55876032]\t[-1.e+04  9.e+00]      \t[ 0.96483516 27.        ]\n",
            "4  \t102   \t[ 0.95323077 17.46      ]  \t[0.00492504 3.12384379]    \t[ 0.93186813 11.        ]\t[ 0.96483516 24.        ]\n",
            "5  \t127   \t[ 0.95313187 17.44      ]  \t[0.00764487 2.92      ]    \t[ 0.8989011 10.       ]  \t[ 0.96483516 24.        ]\n",
            "6  \t125   \t[-49.05006593  17.86      ]\t[705.40413806   2.9766424 ]\t[-10000.     10.]        \t[ 0.96483516 25.        ]\n",
            "7  \t108   \t[ 0.95624176 18.035     ]  \t[0.00795225 2.83439147]    \t[ 0.92307692 10.        ]\t[ 0.96703297 23.        ]\n",
            "8  \t117   \t[ 0.95935165 18.57      ]  \t[0.00733222 2.04330614]    \t[ 0.92747253 11.        ]\t[ 0.96703297 22.        ]\n",
            "9  \t117   \t[ 0.96226374 18.695     ]  \t[0.00705392 1.60061707]    \t[ 0.90549451 12.        ]\t[ 0.96703297 22.        ]\n",
            "10 \t120   \t[ 0.96306593 18.07      ]  \t[0.00722505 1.20212312]    \t[ 0.92527473 15.        ]\t[ 0.96703297 21.        ]\n",
            "Subset features choosed: ['radius_mean', 'area_mean', 'concavity_mean', 'concave points_mean', 'radius_se', 'texture_se', 'smoothness_se', 'concave points_se', 'fractal_dimension_se', 'texture_worst', 'perimeter_worst', 'compactness_worst', 'concavity_worst', 'concave points_worst', 'symmetry_worst']\n",
            "Selecting features with genetic algorithm.\n",
            "gen\tnevals\tavg                      \tstd                    \tmin                    \tmax                      \n",
            "0  \t200   \t[ 0.91603297 12.975     ]\t[0.05934444 7.17038179]\t[0.63736264 1.        ]\t[ 0.95604396 25.        ]\n",
            "1  \t118   \t[-49.06163736  17.1       ]\t[705.40331782   4.48218697]\t[-1.e+04  4.e+00]      \t[ 0.96263736 27.        ]\n",
            "2  \t115   \t[-49.05627473  18.785     ]\t[705.40369794   3.55651163]\t[-1.e+04  6.e+00]      \t[ 0.96483516 26.        ]\n",
            "3  \t106   \t[-99.05852747  19.305     ]\t[995.08205868   3.11479935]\t[-10000.     12.]      \t[ 0.96483516 26.        ]\n",
            "4  \t126   \t[-149.06202198   19.34      ]\t[1215.64032791    2.73759018]\t[-10000.     12.]      \t[ 0.96483516 26.        ]\n",
            "5  \t119   \t[-49.05157143  19.3       ]  \t[705.40403135   2.46779254]  \t[-10000.     14.]      \t[ 0.96703297 26.        ]\n",
            "6  \t118   \t[ 0.95657143 19.165     ]    \t[0.0070817  2.18352353]      \t[ 0.92527473 13.        ]\t[ 0.96703297 25.        ]\n",
            "7  \t115   \t[ 0.9586044 19.035    ]      \t[0.0068053 1.914099 ]        \t[ 0.92307692 13.        ]\t[ 0.96703297 24.        ]\n",
            "8  \t129   \t[ 0.95953846 18.805     ]    \t[0.00799465 1.89128924]      \t[ 0.90989011 13.        ]\t[ 0.96703297 25.        ]\n",
            "9  \t111   \t[ 0.96098901 18.61      ]    \t[0.00830161 1.82151036]      \t[ 0.91208791 13.        ]\t[ 0.96703297 23.        ]\n",
            "10 \t117   \t[ 0.96097802 18.29      ]    \t[0.00800766 1.86705651]      \t[ 0.92747253 13.        ]\t[ 0.96703297 23.        ]\n",
            "Subset features choosed: ['radius_mean', 'area_mean', 'smoothness_mean', 'compactness_mean', 'concavity_mean', 'concave points_mean', 'symmetry_mean', 'fractal_dimension_mean', 'radius_se', 'texture_se', 'smoothness_se', 'compactness_se', 'concavity_se', 'symmetry_se', 'texture_worst', 'perimeter_worst', 'concavity_worst', 'concave points_worst']\n",
            "Selecting features with genetic algorithm.\n",
            "gen\tnevals\tavg                      \tstd                    \tmin                    \tmax                      \n",
            "0  \t200   \t[ 0.91259341 13.88      ]\t[0.07195066 7.66261052]\t[0.63736264 1.        ]\t[ 0.96043956 26.        ]\n",
            "1  \t117   \t[-99.06343956  19.69      ]\t[995.08156501   4.96929572]\t[-1.e+04  4.e+00]      \t[ 0.96263736 27.        ]\n",
            "2  \t129   \t[-49.05445055  20.99      ]\t[705.40382723   3.01826109]\t[-1.e+04  9.e+00]      \t[ 0.96263736 27.        ]\n",
            "3  \t118   \t[ 0.95242857 20.08      ]  \t[0.00590509 2.90750752]    \t[ 0.92527473 13.        ]\t[ 0.96483516 26.        ]\n",
            "4  \t122   \t[-49.04938462  20.12      ]\t[705.40418634   2.74510473]\t[-10000.     13.]        \t[ 0.96483516 27.        ]\n",
            "5  \t125   \t[ 0.95771429 19.91      ]  \t[0.00450544 2.72431643]    \t[ 0.94065934 12.        ]\t[ 0.96483516 26.        ]\n",
            "6  \t107   \t[ 0.95943956 20.085     ]  \t[0.00496722 2.42028407]    \t[ 0.92747253 14.        ]\t[ 0.96483516 25.        ]\n",
            "7  \t115   \t[ 0.96057143 20.325     ]  \t[0.00439912 2.12117302]    \t[ 0.93186813 14.        ]\t[ 0.96703297 25.        ]\n",
            "8  \t113   \t[ 0.96128571 20.055     ]  \t[0.00459271 1.91623981]    \t[ 0.94285714 12.        ]\t[ 0.96703297 25.        ]\n",
            "9  \t118   \t[ 0.96021978 19.965     ]  \t[0.00706381 1.75036425]    \t[ 0.93186813 15.        ]\t[ 0.96703297 24.        ]\n",
            "10 \t118   \t[ 0.9610989 19.73     ]    \t[0.00838052 2.04134759]    \t[ 0.91428571 13.        ]\t[ 0.96703297 24.        ]\n",
            "Subset features choosed: ['radius_mean', 'area_mean', 'smoothness_mean', 'concavity_mean', 'concave points_mean', 'symmetry_mean', 'radius_se', 'texture_se', 'compactness_se', 'texture_worst', 'perimeter_worst', 'concavity_worst', 'concave points_worst']\n",
            "Selecting features with genetic algorithm.\n",
            "gen\tnevals\tavg                      \tstd                    \tmin                    \tmax                      \n",
            "0  \t200   \t[ 0.90962637 13.705     ]\t[0.07506084 8.12452922]\t[0.63736264 1.        ]\t[ 0.95824176 27.        ]\n",
            "1  \t132   \t[-99.06550549  18.47      ]\t[995.0813574    5.47166337]\t[-1.e+04  3.e+00]      \t[ 0.96263736 29.        ]\n",
            "2  \t107   \t[ 0.94968132 19.655     ]  \t[0.00540765 4.13230868]    \t[0.92967033 8.        ]\t[ 0.96263736 27.        ]\n",
            "3  \t112   \t[ 0.95147253 19.37      ]  \t[0.00595178 3.48756362]    \t[ 0.92527473 11.        ]\t[ 0.96263736 27.        ]\n",
            "4  \t104   \t[ 0.9528022 18.68     ]    \t[0.00814059 2.98288451]    \t[ 0.91428571 11.        ]\t[ 0.96263736 27.        ]\n",
            "5  \t112   \t[ 0.95356044 18.69      ]  \t[0.00993715 2.39455633]    \t[ 0.9010989 11.       ]  \t[ 0.96483516 25.        ]\n",
            "6  \t110   \t[ 0.956 18.775]            \t[0.00865544 1.73907303]    \t[ 0.90989011 14.        ]\t[ 0.96483516 24.        ]\n",
            "7  \t118   \t[ 0.95840659 18.345     ]  \t[0.00801501 1.69291908]    \t[ 0.89010989 14.        ]\t[ 0.96483516 23.        ]\n",
            "8  \t126   \t[ 0.95962637 18.035     ]  \t[0.00798897 1.75036425]    \t[ 0.8989011 13.       ]  \t[ 0.96703297 23.        ]\n",
            "9  \t116   \t[ 0.96052747 17.9       ]  \t[0.00511592 1.74355958]    \t[ 0.93626374 13.        ]\t[ 0.96703297 22.        ]\n",
            "10 \t113   \t[ 0.9608022 17.88     ]    \t[0.00613725 1.68392399]    \t[ 0.92747253 14.        ]\t[ 0.96703297 23.        ]\n",
            "Subset features choosed: ['radius_mean', 'area_mean', 'concavity_mean', 'concave points_mean', 'fractal_dimension_mean', 'radius_se', 'texture_se', 'smoothness_se', 'symmetry_se', 'fractal_dimension_se', 'texture_worst', 'perimeter_worst', 'smoothness_worst', 'concavity_worst', 'concave points_worst', 'fractal_dimension_worst']\n",
            "Selecting features with genetic algorithm.\n",
            "gen\tnevals\tavg                      \tstd                    \tmin                    \tmax                      \n",
            "0  \t200   \t[ 0.92320879 15.345     ]\t[0.04680217 7.64957352]\t[0.63736264 1.        ]\t[ 0.95604396 28.        ]\n",
            "1  \t107   \t[-49.05992308  19.825     ]\t[705.40343938   5.31454372]\t[-1.e+04  2.e+00]      \t[ 0.95824176 29.        ]\n",
            "2  \t121   \t[ 0.9501978 20.86     ]    \t[0.00445802 3.6359868 ]    \t[ 0.92747253 11.        ]\t[ 0.95824176 28.        ]\n",
            "3  \t121   \t[ 0.95150549 20.455     ]  \t[0.00500249 3.14133332]    \t[ 0.92967033 11.        ]\t[ 0.96483516 27.        ]\n",
            "4  \t126   \t[ 0.95248352 19.965     ]  \t[0.00686461 2.81847033]    \t[ 0.90989011 12.        ]\t[ 0.96483516 27.        ]\n",
            "5  \t130   \t[ 0.95401099 19.855     ]  \t[0.00664426 2.70258672]    \t[ 0.92307692 12.        ]\t[ 0.96483516 27.        ]\n",
            "6  \t119   \t[ 0.95465934 19.96      ]  \t[0.00810602 2.6492263 ]    \t[ 0.90989011 13.        ]\t[ 0.96483516 27.        ]\n",
            "7  \t108   \t[ 0.95573626 19.31      ]  \t[0.00914413 2.65026414]    \t[ 0.9032967 12.       ]  \t[ 0.96483516 26.        ]\n",
            "8  \t109   \t[ 0.95769231 18.665     ]  \t[0.00835093 2.55788487]    \t[ 0.91868132 14.        ]\t[ 0.96483516 26.        ]\n",
            "9  \t117   \t[ 0.95873626 18.1       ]  \t[0.00846207 2.30217289]    \t[ 0.92307692 13.        ]\t[ 0.96483516 24.        ]\n",
            "10 \t111   \t[ 0.96138462 16.945     ]  \t[0.00658795 1.98795749]    \t[ 0.92967033 12.        ]\t[ 0.96483516 22.        ]\n",
            "Subset features choosed: ['radius_mean', 'texture_mean', 'area_mean', 'symmetry_mean', 'fractal_dimension_mean', 'radius_se', 'texture_se', 'perimeter_se', 'area_se', 'symmetry_se', 'perimeter_worst', 'concavity_worst', 'symmetry_worst']\n",
            "Selecting features with genetic algorithm.\n",
            "gen\tnevals\tavg                      \tstd                    \tmin                    \tmax                      \n",
            "0  \t200   \t[ 0.91895604 15.06      ]\t[0.058509   8.60850742]\t[0.63736264 1.        ]\t[ 0.95824176 29.        ]\n",
            "1  \t120   \t[ 0.9470989 20.13     ]  \t[0.00688901 5.54735072]\t[0.91648352 4.        ]\t[ 0.95824176 29.        ]\n",
            "2  \t142   \t[ 0.94912088 19.77      ]\t[0.00667984 4.03572794]\t[0.9010989 7.       ]  \t[ 0.96043956 28.        ]\n",
            "3  \t137   \t[ 0.9509011 18.615    ]  \t[0.00585804 3.66152632]\t[ 0.91648352 10.        ]\t[ 0.96483516 28.        ]\n",
            "4  \t108   \t[ 0.95264835 18.095     ]\t[0.00732827 3.15530902]\t[ 0.90989011 11.        ]\t[ 0.96483516 28.        ]\n",
            "5  \t107   \t[ 0.9546044 17.585    ]  \t[0.00735065 2.60629526]\t[ 0.9010989 11.       ]  \t[ 0.96483516 24.        ]\n",
            "6  \t128   \t[ 0.95617582 17.605     ]\t[0.00691047 2.4574326 ]\t[ 0.92967033 11.        ]\t[ 0.96703297 26.        ]\n",
            "7  \t124   \t[ 0.95769231 17.465     ]\t[0.00892413 2.10208825]\t[ 0.89230769 11.        ]\t[ 0.96703297 24.        ]\n",
            "8  \t124   \t[ 0.95976923 17.32      ]\t[0.00652047 2.05854317]\t[ 0.90989011 12.        ]\t[ 0.96703297 24.        ]\n",
            "9  \t126   \t[ 0.96031868 17.45      ]\t[0.00840123 1.96150452]\t[ 0.9010989 13.       ]  \t[ 0.96703297 22.        ]\n",
            "10 \t117   \t[ 0.96137363 17.575     ]\t[0.00717722 2.07951316]\t[ 0.90989011 13.        ]\t[ 0.96703297 22.        ]\n",
            "Subset features choosed: ['radius_mean', 'area_mean', 'smoothness_mean', 'concavity_mean', 'concave points_mean', 'radius_se', 'texture_se', 'concavity_se', 'concave points_se', 'symmetry_se', 'texture_worst', 'perimeter_worst', 'compactness_worst', 'concavity_worst', 'concave points_worst', 'symmetry_worst']\n",
            "Selecting features with genetic algorithm.\n",
            "gen\tnevals\tavg                    \tstd                    \tmin                    \tmax                      \n",
            "0  \t200   \t[ 0.9162967 15.68     ]\t[0.06250179 8.68778453]\t[0.63736264 1.        ]\t[ 0.95824176 30.        ]\n",
            "1  \t114   \t[ 0.94618681 20.58      ]\t[0.01140525 4.48370383]\t[0.83296703 3.        ]\t[ 0.95824176 30.        ]\n",
            "2  \t106   \t[ 0.95049451 20.755     ]\t[0.00512582 3.16938085]\t[ 0.92747253 13.        ]\t[ 0.96043956 28.        ]\n",
            "3  \t129   \t[ 0.95198901 20.445     ]\t[0.00630159 2.78872283]\t[ 0.91648352 15.        ]\t[ 0.96483516 26.        ]\n",
            "4  \t121   \t[ 0.95324176 19.925     ]\t[0.00809895 2.53562123]\t[ 0.89230769 14.        ]\t[ 0.96483516 26.        ]\n",
            "5  \t115   \t[ 0.95501099 19.605     ]\t[0.00817308 2.58243587]\t[ 0.91208791 12.        ]\t[ 0.96483516 25.        ]\n",
            "6  \t127   \t[ 0.95817582 19.415     ]\t[0.00630853 2.32653713]\t[ 0.92307692 13.        ]\t[ 0.96483516 25.        ]\n",
            "7  \t128   \t[ 0.95956044 19.56      ]\t[0.00675266 2.08719908]\t[ 0.92307692 13.        ]\t[ 0.96483516 26.        ]\n",
            "8  \t109   \t[ 0.96162637 19.335     ]\t[0.00675208 1.91122343]\t[ 0.91868132 14.        ]\t[ 0.96483516 24.        ]\n",
            "9  \t129   \t[ 0.96250549 18.7       ]\t[0.00595698 1.72626765]\t[ 0.92967033 15.        ]\t[ 0.96483516 24.        ]\n",
            "10 \t119   \t[ 0.96264835 17.825     ]\t[0.00519862 1.74481374]\t[ 0.93846154 14.        ]\t[ 0.96483516 23.        ]\n",
            "Subset features choosed: ['radius_mean', 'texture_mean', 'area_mean', 'smoothness_mean', 'concavity_mean', 'fractal_dimension_mean', 'radius_se', 'texture_se', 'perimeter_se', 'area_se', 'concavity_se', 'fractal_dimension_se', 'perimeter_worst', 'concavity_worst', 'concave points_worst']\n"
          ],
          "name": "stdout"
        }
      ]
    },
    {
      "cell_type": "code",
      "metadata": {
        "colab": {
          "base_uri": "https://localhost:8080/"
        },
        "id": "-W1I9rfjA4pv",
        "outputId": "98eea5a4-080c-4a18-9245-cc4f5f7c4009"
      },
      "source": [
        "report[\"Scores\"] = np.round(report[\"Scores\"], 3)\n",
        "report.sort_values(by = \"Scores\", ascending = False, inplace = True)\n",
        "print(report)\n",
        "#report.index\n",
        "ga_feats = report.iloc[0][\"Chosen Feats\"]\n",
        "#DataTable(report)\n",
        "print(ga_feats)"
      ],
      "execution_count": null,
      "outputs": [
        {
          "output_type": "stream",
          "text": [
            "    No of Feats                                       Chosen Feats  Scores\n",
            "27           16  [radius_mean, area_mean, smoothness_mean, conc...   0.967\n",
            "24           13  [radius_mean, area_mean, smoothness_mean, conc...   0.967\n",
            "23           18  [radius_mean, area_mean, smoothness_mean, comp...   0.967\n",
            "22           15  [radius_mean, area_mean, concavity_mean, conca...   0.967\n",
            "21           14  [radius_mean, area_mean, concavity_mean, conca...   0.967\n",
            "25           16  [radius_mean, area_mean, concavity_mean, conca...   0.967\n",
            "18           14  [radius_mean, texture_mean, area_mean, smoothn...   0.965\n",
            "10           11  [radius_mean, texture_mean, area_mean, texture...   0.965\n",
            "11            9  [radius_mean, area_mean, compactness_mean, rad...   0.965\n",
            "28           15  [radius_mean, texture_mean, area_mean, smoothn...   0.965\n",
            "17           14  [radius_mean, texture_mean, area_mean, smoothn...   0.965\n",
            "12           13  [radius_mean, texture_mean, area_mean, radius_...   0.965\n",
            "19           11  [radius_mean, texture_mean, area_mean, smoothn...   0.965\n",
            "20           15  [radius_mean, texture_mean, area_mean, smoothn...   0.965\n",
            "26           13  [radius_mean, texture_mean, area_mean, symmetr...   0.965\n",
            "16           14  [radius_mean, texture_mean, area_mean, smoothn...   0.965\n",
            "14           14  [radius_mean, texture_mean, area_mean, smoothn...   0.965\n",
            "5             6  [radius_mean, area_mean, concavity_mean, textu...   0.963\n",
            "7             7  [radius_mean, area_mean, concavity_mean, conca...   0.963\n",
            "8             9  [radius_mean, texture_mean, area_mean, radius_...   0.963\n",
            "9            11  [radius_mean, texture_mean, concavity_mean, co...   0.963\n",
            "13            8  [radius_mean, area_mean, smoothness_mean, comp...   0.963\n",
            "15           10  [radius_mean, texture_mean, area_mean, smoothn...   0.963\n",
            "6             6  [radius_mean, perimeter_mean, texture_se, area...   0.958\n",
            "4             6  [radius_mean, texture_mean, area_mean, radius_...   0.958\n",
            "3             5  [radius_mean, texture_se, area_worst, compactn...   0.954\n",
            "2             4  [radius_mean, perimeter_mean, radius_worst, co...   0.952\n",
            "1             3        [radius_mean, perimeter_mean, radius_worst]   0.943\n",
            "0             2                    [radius_worst, concavity_worst]   0.938\n",
            "['radius_mean', 'area_mean', 'smoothness_mean', 'concavity_mean', 'concave points_mean', 'radius_se', 'texture_se', 'concavity_se', 'concave points_se', 'symmetry_se', 'texture_worst', 'perimeter_worst', 'compactness_worst', 'concavity_worst', 'concave points_worst', 'symmetry_worst']\n"
          ],
          "name": "stdout"
        }
      ]
    },
    {
      "cell_type": "code",
      "metadata": {
        "colab": {
          "base_uri": "https://localhost:8080/"
        },
        "id": "IcH0rLBC4AZa",
        "outputId": "e1e69c88-09e1-496c-bf1e-cac1ef652956"
      },
      "source": [
        "len(ga_feats)"
      ],
      "execution_count": null,
      "outputs": [
        {
          "output_type": "execute_result",
          "data": {
            "text/plain": [
              "16"
            ]
          },
          "metadata": {
            "tags": []
          },
          "execution_count": 71
        }
      ]
    },
    {
      "cell_type": "code",
      "metadata": {
        "colab": {
          "base_uri": "https://localhost:8080/",
          "height": 438
        },
        "id": "69kMqy2QkurC",
        "outputId": "42178586-d323-4e85-ab86-b6e255ea5e56"
      },
      "source": [
        "df[ga_feats]"
      ],
      "execution_count": null,
      "outputs": [
        {
          "output_type": "execute_result",
          "data": {
            "text/html": [
              "<div>\n",
              "<style scoped>\n",
              "    .dataframe tbody tr th:only-of-type {\n",
              "        vertical-align: middle;\n",
              "    }\n",
              "\n",
              "    .dataframe tbody tr th {\n",
              "        vertical-align: top;\n",
              "    }\n",
              "\n",
              "    .dataframe thead th {\n",
              "        text-align: right;\n",
              "    }\n",
              "</style>\n",
              "<table border=\"1\" class=\"dataframe\">\n",
              "  <thead>\n",
              "    <tr style=\"text-align: right;\">\n",
              "      <th></th>\n",
              "      <th>radius_mean</th>\n",
              "      <th>area_mean</th>\n",
              "      <th>smoothness_mean</th>\n",
              "      <th>concavity_mean</th>\n",
              "      <th>concave points_mean</th>\n",
              "      <th>radius_se</th>\n",
              "      <th>texture_se</th>\n",
              "      <th>concavity_se</th>\n",
              "      <th>concave points_se</th>\n",
              "      <th>symmetry_se</th>\n",
              "      <th>texture_worst</th>\n",
              "      <th>perimeter_worst</th>\n",
              "      <th>compactness_worst</th>\n",
              "      <th>concavity_worst</th>\n",
              "      <th>concave points_worst</th>\n",
              "      <th>symmetry_worst</th>\n",
              "    </tr>\n",
              "  </thead>\n",
              "  <tbody>\n",
              "    <tr>\n",
              "      <th>0</th>\n",
              "      <td>17.99</td>\n",
              "      <td>1001.0</td>\n",
              "      <td>0.11840</td>\n",
              "      <td>0.30010</td>\n",
              "      <td>0.14710</td>\n",
              "      <td>1.0950</td>\n",
              "      <td>0.9053</td>\n",
              "      <td>0.05373</td>\n",
              "      <td>0.01587</td>\n",
              "      <td>0.03003</td>\n",
              "      <td>17.33</td>\n",
              "      <td>184.60</td>\n",
              "      <td>0.66560</td>\n",
              "      <td>0.7119</td>\n",
              "      <td>0.2654</td>\n",
              "      <td>0.4601</td>\n",
              "    </tr>\n",
              "    <tr>\n",
              "      <th>1</th>\n",
              "      <td>20.57</td>\n",
              "      <td>1326.0</td>\n",
              "      <td>0.08474</td>\n",
              "      <td>0.08690</td>\n",
              "      <td>0.07017</td>\n",
              "      <td>0.5435</td>\n",
              "      <td>0.7339</td>\n",
              "      <td>0.01860</td>\n",
              "      <td>0.01340</td>\n",
              "      <td>0.01389</td>\n",
              "      <td>23.41</td>\n",
              "      <td>158.80</td>\n",
              "      <td>0.18660</td>\n",
              "      <td>0.2416</td>\n",
              "      <td>0.1860</td>\n",
              "      <td>0.2750</td>\n",
              "    </tr>\n",
              "    <tr>\n",
              "      <th>2</th>\n",
              "      <td>19.69</td>\n",
              "      <td>1203.0</td>\n",
              "      <td>0.10960</td>\n",
              "      <td>0.19740</td>\n",
              "      <td>0.12790</td>\n",
              "      <td>0.7456</td>\n",
              "      <td>0.7869</td>\n",
              "      <td>0.03832</td>\n",
              "      <td>0.02058</td>\n",
              "      <td>0.02250</td>\n",
              "      <td>25.53</td>\n",
              "      <td>152.50</td>\n",
              "      <td>0.42450</td>\n",
              "      <td>0.4504</td>\n",
              "      <td>0.2430</td>\n",
              "      <td>0.3613</td>\n",
              "    </tr>\n",
              "    <tr>\n",
              "      <th>3</th>\n",
              "      <td>11.42</td>\n",
              "      <td>386.1</td>\n",
              "      <td>0.14250</td>\n",
              "      <td>0.24140</td>\n",
              "      <td>0.10520</td>\n",
              "      <td>0.4956</td>\n",
              "      <td>1.1560</td>\n",
              "      <td>0.05661</td>\n",
              "      <td>0.01867</td>\n",
              "      <td>0.05963</td>\n",
              "      <td>26.50</td>\n",
              "      <td>98.87</td>\n",
              "      <td>0.86630</td>\n",
              "      <td>0.6869</td>\n",
              "      <td>0.2575</td>\n",
              "      <td>0.6638</td>\n",
              "    </tr>\n",
              "    <tr>\n",
              "      <th>4</th>\n",
              "      <td>20.29</td>\n",
              "      <td>1297.0</td>\n",
              "      <td>0.10030</td>\n",
              "      <td>0.19800</td>\n",
              "      <td>0.10430</td>\n",
              "      <td>0.7572</td>\n",
              "      <td>0.7813</td>\n",
              "      <td>0.05688</td>\n",
              "      <td>0.01885</td>\n",
              "      <td>0.01756</td>\n",
              "      <td>16.67</td>\n",
              "      <td>152.20</td>\n",
              "      <td>0.20500</td>\n",
              "      <td>0.4000</td>\n",
              "      <td>0.1625</td>\n",
              "      <td>0.2364</td>\n",
              "    </tr>\n",
              "    <tr>\n",
              "      <th>...</th>\n",
              "      <td>...</td>\n",
              "      <td>...</td>\n",
              "      <td>...</td>\n",
              "      <td>...</td>\n",
              "      <td>...</td>\n",
              "      <td>...</td>\n",
              "      <td>...</td>\n",
              "      <td>...</td>\n",
              "      <td>...</td>\n",
              "      <td>...</td>\n",
              "      <td>...</td>\n",
              "      <td>...</td>\n",
              "      <td>...</td>\n",
              "      <td>...</td>\n",
              "      <td>...</td>\n",
              "      <td>...</td>\n",
              "    </tr>\n",
              "    <tr>\n",
              "      <th>564</th>\n",
              "      <td>21.56</td>\n",
              "      <td>1479.0</td>\n",
              "      <td>0.11100</td>\n",
              "      <td>0.24390</td>\n",
              "      <td>0.13890</td>\n",
              "      <td>1.1760</td>\n",
              "      <td>1.2560</td>\n",
              "      <td>0.05198</td>\n",
              "      <td>0.02454</td>\n",
              "      <td>0.01114</td>\n",
              "      <td>26.40</td>\n",
              "      <td>166.10</td>\n",
              "      <td>0.21130</td>\n",
              "      <td>0.4107</td>\n",
              "      <td>0.2216</td>\n",
              "      <td>0.2060</td>\n",
              "    </tr>\n",
              "    <tr>\n",
              "      <th>565</th>\n",
              "      <td>20.13</td>\n",
              "      <td>1261.0</td>\n",
              "      <td>0.09780</td>\n",
              "      <td>0.14400</td>\n",
              "      <td>0.09791</td>\n",
              "      <td>0.7655</td>\n",
              "      <td>2.4630</td>\n",
              "      <td>0.03950</td>\n",
              "      <td>0.01678</td>\n",
              "      <td>0.01898</td>\n",
              "      <td>38.25</td>\n",
              "      <td>155.00</td>\n",
              "      <td>0.19220</td>\n",
              "      <td>0.3215</td>\n",
              "      <td>0.1628</td>\n",
              "      <td>0.2572</td>\n",
              "    </tr>\n",
              "    <tr>\n",
              "      <th>566</th>\n",
              "      <td>16.60</td>\n",
              "      <td>858.1</td>\n",
              "      <td>0.08455</td>\n",
              "      <td>0.09251</td>\n",
              "      <td>0.05302</td>\n",
              "      <td>0.4564</td>\n",
              "      <td>1.0750</td>\n",
              "      <td>0.04730</td>\n",
              "      <td>0.01557</td>\n",
              "      <td>0.01318</td>\n",
              "      <td>34.12</td>\n",
              "      <td>126.70</td>\n",
              "      <td>0.30940</td>\n",
              "      <td>0.3403</td>\n",
              "      <td>0.1418</td>\n",
              "      <td>0.2218</td>\n",
              "    </tr>\n",
              "    <tr>\n",
              "      <th>567</th>\n",
              "      <td>20.60</td>\n",
              "      <td>1265.0</td>\n",
              "      <td>0.11780</td>\n",
              "      <td>0.35140</td>\n",
              "      <td>0.15200</td>\n",
              "      <td>0.7260</td>\n",
              "      <td>1.5950</td>\n",
              "      <td>0.07117</td>\n",
              "      <td>0.01664</td>\n",
              "      <td>0.02324</td>\n",
              "      <td>39.42</td>\n",
              "      <td>184.60</td>\n",
              "      <td>0.86810</td>\n",
              "      <td>0.9387</td>\n",
              "      <td>0.2650</td>\n",
              "      <td>0.4087</td>\n",
              "    </tr>\n",
              "    <tr>\n",
              "      <th>568</th>\n",
              "      <td>7.76</td>\n",
              "      <td>181.0</td>\n",
              "      <td>0.05263</td>\n",
              "      <td>0.00000</td>\n",
              "      <td>0.00000</td>\n",
              "      <td>0.3857</td>\n",
              "      <td>1.4280</td>\n",
              "      <td>0.00000</td>\n",
              "      <td>0.00000</td>\n",
              "      <td>0.02676</td>\n",
              "      <td>30.37</td>\n",
              "      <td>59.16</td>\n",
              "      <td>0.06444</td>\n",
              "      <td>0.0000</td>\n",
              "      <td>0.0000</td>\n",
              "      <td>0.2871</td>\n",
              "    </tr>\n",
              "  </tbody>\n",
              "</table>\n",
              "<p>569 rows × 16 columns</p>\n",
              "</div>"
            ],
            "text/plain": [
              "     radius_mean  area_mean  ...  concave points_worst  symmetry_worst\n",
              "0          17.99     1001.0  ...                0.2654          0.4601\n",
              "1          20.57     1326.0  ...                0.1860          0.2750\n",
              "2          19.69     1203.0  ...                0.2430          0.3613\n",
              "3          11.42      386.1  ...                0.2575          0.6638\n",
              "4          20.29     1297.0  ...                0.1625          0.2364\n",
              "..           ...        ...  ...                   ...             ...\n",
              "564        21.56     1479.0  ...                0.2216          0.2060\n",
              "565        20.13     1261.0  ...                0.1628          0.2572\n",
              "566        16.60      858.1  ...                0.1418          0.2218\n",
              "567        20.60     1265.0  ...                0.2650          0.4087\n",
              "568         7.76      181.0  ...                0.0000          0.2871\n",
              "\n",
              "[569 rows x 16 columns]"
            ]
          },
          "metadata": {
            "tags": []
          },
          "execution_count": 70
        }
      ]
    },
    {
      "cell_type": "code",
      "metadata": {
        "colab": {
          "base_uri": "https://localhost:8080/",
          "height": 473
        },
        "id": "08sF6jdZME14",
        "outputId": "6e94ebc9-e5a7-4160-e2b3-f7d77103fe15"
      },
      "source": [
        "df[ga_feats].corr()"
      ],
      "execution_count": null,
      "outputs": [
        {
          "output_type": "execute_result",
          "data": {
            "text/html": [
              "<div>\n",
              "<style scoped>\n",
              "    .dataframe tbody tr th:only-of-type {\n",
              "        vertical-align: middle;\n",
              "    }\n",
              "\n",
              "    .dataframe tbody tr th {\n",
              "        vertical-align: top;\n",
              "    }\n",
              "\n",
              "    .dataframe thead th {\n",
              "        text-align: right;\n",
              "    }\n",
              "</style>\n",
              "<table border=\"1\" class=\"dataframe\">\n",
              "  <thead>\n",
              "    <tr style=\"text-align: right;\">\n",
              "      <th></th>\n",
              "      <th>radius_mean</th>\n",
              "      <th>texture_mean</th>\n",
              "      <th>area_mean</th>\n",
              "      <th>concave points_mean</th>\n",
              "      <th>radius_se</th>\n",
              "      <th>perimeter_se</th>\n",
              "      <th>compactness_se</th>\n",
              "      <th>fractal_dimension_se</th>\n",
              "      <th>perimeter_worst</th>\n",
              "      <th>concavity_worst</th>\n",
              "      <th>concave points_worst</th>\n",
              "      <th>symmetry_worst</th>\n",
              "    </tr>\n",
              "  </thead>\n",
              "  <tbody>\n",
              "    <tr>\n",
              "      <th>radius_mean</th>\n",
              "      <td>1.000000</td>\n",
              "      <td>0.323782</td>\n",
              "      <td>0.987357</td>\n",
              "      <td>0.822529</td>\n",
              "      <td>0.679090</td>\n",
              "      <td>0.674172</td>\n",
              "      <td>0.206000</td>\n",
              "      <td>-0.042641</td>\n",
              "      <td>0.965137</td>\n",
              "      <td>0.526911</td>\n",
              "      <td>0.744214</td>\n",
              "      <td>0.163953</td>\n",
              "    </tr>\n",
              "    <tr>\n",
              "      <th>texture_mean</th>\n",
              "      <td>0.323782</td>\n",
              "      <td>1.000000</td>\n",
              "      <td>0.321086</td>\n",
              "      <td>0.293464</td>\n",
              "      <td>0.275869</td>\n",
              "      <td>0.281673</td>\n",
              "      <td>0.191975</td>\n",
              "      <td>0.054458</td>\n",
              "      <td>0.358040</td>\n",
              "      <td>0.301025</td>\n",
              "      <td>0.295316</td>\n",
              "      <td>0.105008</td>\n",
              "    </tr>\n",
              "    <tr>\n",
              "      <th>area_mean</th>\n",
              "      <td>0.987357</td>\n",
              "      <td>0.321086</td>\n",
              "      <td>1.000000</td>\n",
              "      <td>0.823269</td>\n",
              "      <td>0.732562</td>\n",
              "      <td>0.726628</td>\n",
              "      <td>0.212583</td>\n",
              "      <td>-0.019887</td>\n",
              "      <td>0.959120</td>\n",
              "      <td>0.512606</td>\n",
              "      <td>0.722017</td>\n",
              "      <td>0.143570</td>\n",
              "    </tr>\n",
              "    <tr>\n",
              "      <th>concave points_mean</th>\n",
              "      <td>0.822529</td>\n",
              "      <td>0.293464</td>\n",
              "      <td>0.823269</td>\n",
              "      <td>1.000000</td>\n",
              "      <td>0.698050</td>\n",
              "      <td>0.710650</td>\n",
              "      <td>0.490424</td>\n",
              "      <td>0.257584</td>\n",
              "      <td>0.855923</td>\n",
              "      <td>0.752399</td>\n",
              "      <td>0.910155</td>\n",
              "      <td>0.375744</td>\n",
              "    </tr>\n",
              "    <tr>\n",
              "      <th>radius_se</th>\n",
              "      <td>0.679090</td>\n",
              "      <td>0.275869</td>\n",
              "      <td>0.732562</td>\n",
              "      <td>0.698050</td>\n",
              "      <td>1.000000</td>\n",
              "      <td>0.972794</td>\n",
              "      <td>0.356065</td>\n",
              "      <td>0.227754</td>\n",
              "      <td>0.719684</td>\n",
              "      <td>0.380585</td>\n",
              "      <td>0.531062</td>\n",
              "      <td>0.094543</td>\n",
              "    </tr>\n",
              "    <tr>\n",
              "      <th>perimeter_se</th>\n",
              "      <td>0.674172</td>\n",
              "      <td>0.281673</td>\n",
              "      <td>0.726628</td>\n",
              "      <td>0.710650</td>\n",
              "      <td>0.972794</td>\n",
              "      <td>1.000000</td>\n",
              "      <td>0.416322</td>\n",
              "      <td>0.244143</td>\n",
              "      <td>0.721031</td>\n",
              "      <td>0.418899</td>\n",
              "      <td>0.554897</td>\n",
              "      <td>0.109930</td>\n",
              "    </tr>\n",
              "    <tr>\n",
              "      <th>compactness_se</th>\n",
              "      <td>0.206000</td>\n",
              "      <td>0.191975</td>\n",
              "      <td>0.212583</td>\n",
              "      <td>0.490424</td>\n",
              "      <td>0.356065</td>\n",
              "      <td>0.416322</td>\n",
              "      <td>1.000000</td>\n",
              "      <td>0.803269</td>\n",
              "      <td>0.260516</td>\n",
              "      <td>0.639147</td>\n",
              "      <td>0.483208</td>\n",
              "      <td>0.277878</td>\n",
              "    </tr>\n",
              "    <tr>\n",
              "      <th>fractal_dimension_se</th>\n",
              "      <td>-0.042641</td>\n",
              "      <td>0.054458</td>\n",
              "      <td>-0.019887</td>\n",
              "      <td>0.257584</td>\n",
              "      <td>0.227754</td>\n",
              "      <td>0.244143</td>\n",
              "      <td>0.803269</td>\n",
              "      <td>1.000000</td>\n",
              "      <td>-0.001000</td>\n",
              "      <td>0.379975</td>\n",
              "      <td>0.215204</td>\n",
              "      <td>0.111094</td>\n",
              "    </tr>\n",
              "    <tr>\n",
              "      <th>perimeter_worst</th>\n",
              "      <td>0.965137</td>\n",
              "      <td>0.358040</td>\n",
              "      <td>0.959120</td>\n",
              "      <td>0.855923</td>\n",
              "      <td>0.719684</td>\n",
              "      <td>0.721031</td>\n",
              "      <td>0.260516</td>\n",
              "      <td>-0.001000</td>\n",
              "      <td>1.000000</td>\n",
              "      <td>0.618344</td>\n",
              "      <td>0.816322</td>\n",
              "      <td>0.269493</td>\n",
              "    </tr>\n",
              "    <tr>\n",
              "      <th>concavity_worst</th>\n",
              "      <td>0.526911</td>\n",
              "      <td>0.301025</td>\n",
              "      <td>0.512606</td>\n",
              "      <td>0.752399</td>\n",
              "      <td>0.380585</td>\n",
              "      <td>0.418899</td>\n",
              "      <td>0.639147</td>\n",
              "      <td>0.379975</td>\n",
              "      <td>0.618344</td>\n",
              "      <td>1.000000</td>\n",
              "      <td>0.855434</td>\n",
              "      <td>0.532520</td>\n",
              "    </tr>\n",
              "    <tr>\n",
              "      <th>concave points_worst</th>\n",
              "      <td>0.744214</td>\n",
              "      <td>0.295316</td>\n",
              "      <td>0.722017</td>\n",
              "      <td>0.910155</td>\n",
              "      <td>0.531062</td>\n",
              "      <td>0.554897</td>\n",
              "      <td>0.483208</td>\n",
              "      <td>0.215204</td>\n",
              "      <td>0.816322</td>\n",
              "      <td>0.855434</td>\n",
              "      <td>1.000000</td>\n",
              "      <td>0.502528</td>\n",
              "    </tr>\n",
              "    <tr>\n",
              "      <th>symmetry_worst</th>\n",
              "      <td>0.163953</td>\n",
              "      <td>0.105008</td>\n",
              "      <td>0.143570</td>\n",
              "      <td>0.375744</td>\n",
              "      <td>0.094543</td>\n",
              "      <td>0.109930</td>\n",
              "      <td>0.277878</td>\n",
              "      <td>0.111094</td>\n",
              "      <td>0.269493</td>\n",
              "      <td>0.532520</td>\n",
              "      <td>0.502528</td>\n",
              "      <td>1.000000</td>\n",
              "    </tr>\n",
              "  </tbody>\n",
              "</table>\n",
              "</div>"
            ],
            "text/plain": [
              "                      radius_mean  ...  symmetry_worst\n",
              "radius_mean              1.000000  ...        0.163953\n",
              "texture_mean             0.323782  ...        0.105008\n",
              "area_mean                0.987357  ...        0.143570\n",
              "concave points_mean      0.822529  ...        0.375744\n",
              "radius_se                0.679090  ...        0.094543\n",
              "perimeter_se             0.674172  ...        0.109930\n",
              "compactness_se           0.206000  ...        0.277878\n",
              "fractal_dimension_se    -0.042641  ...        0.111094\n",
              "perimeter_worst          0.965137  ...        0.269493\n",
              "concavity_worst          0.526911  ...        0.532520\n",
              "concave points_worst     0.744214  ...        0.502528\n",
              "symmetry_worst           0.163953  ...        1.000000\n",
              "\n",
              "[12 rows x 12 columns]"
            ]
          },
          "metadata": {
            "tags": []
          },
          "execution_count": 30
        }
      ]
    },
    {
      "cell_type": "code",
      "metadata": {
        "colab": {
          "base_uri": "https://localhost:8080/",
          "height": 495
        },
        "id": "mHID8ajDMWZH",
        "outputId": "51a44384-4326-4442-a110-744fc0846c29"
      },
      "source": [
        "# Increase the size of the heatmap.\n",
        "plt.figure(figsize=(16, 6))\n",
        "# Store heatmap object in a variable to easily access it when you want to include more features (such as title).\n",
        "# Set the range of values to be displayed on the colormap from -1 to 1, and set the annotation to True to display the correlation values on the heatmap.\n",
        "heatmap = sns.heatmap(df[ga_feats].corr(), vmin=-1, vmax=1, annot=True)\n",
        "# Give a title to the heatmap. Pad defines the distance of the title from the top of the heatmap.\n",
        "heatmap.set_title('Correlation Heatmap', fontdict={'fontsize':12}, pad=12);"
      ],
      "execution_count": null,
      "outputs": [
        {
          "output_type": "display_data",
          "data": {
            "image/png": "[encoded data removed]",
            "text/plain": [
              "<Figure size 1152x432 with 2 Axes>"
            ]
          },
          "metadata": {
            "tags": []
          }
        }
      ]
    },
    {
      "cell_type": "markdown",
      "metadata": {
        "id": "whaih_IEM_1E"
      },
      "source": [
        "## Accuracy"
      ]
    },
    {
      "cell_type": "code",
      "metadata": {
        "id": "3vA-MdBHM_Us"
      },
      "source": [
        "from sklearn.linear_model import LogisticRegression\n",
        "from sklearn.model_selection import train_test_split\n",
        "from sklearn.metrics import accuracy_score, confusion_matrix, classification_report, plot_confusion_matrix"
      ],
      "execution_count": null,
      "outputs": []
    },
    {
      "cell_type": "markdown",
      "metadata": {
        "id": "NYDvtF8QN6BT"
      },
      "source": [
        "### Dữ liệu ban đầu"
      ]
    },
    {
      "cell_type": "code",
      "metadata": {
        "colab": {
          "base_uri": "https://localhost:8080/",
          "height": 173
        },
        "id": "ENGrzWQD5Str",
        "outputId": "88e2d61c-204e-4e3c-bae6-72708f3ecea8"
      },
      "source": [
        "xtrain.head(3)"
      ],
      "execution_count": null,
      "outputs": [
        {
          "output_type": "execute_result",
          "data": {
            "text/html": [
              "<div>\n",
              "<style scoped>\n",
              "    .dataframe tbody tr th:only-of-type {\n",
              "        vertical-align: middle;\n",
              "    }\n",
              "\n",
              "    .dataframe tbody tr th {\n",
              "        vertical-align: top;\n",
              "    }\n",
              "\n",
              "    .dataframe thead th {\n",
              "        text-align: right;\n",
              "    }\n",
              "</style>\n",
              "<table border=\"1\" class=\"dataframe\">\n",
              "  <thead>\n",
              "    <tr style=\"text-align: right;\">\n",
              "      <th></th>\n",
              "      <th>radius_mean</th>\n",
              "      <th>texture_mean</th>\n",
              "      <th>perimeter_mean</th>\n",
              "      <th>area_mean</th>\n",
              "      <th>smoothness_mean</th>\n",
              "      <th>compactness_mean</th>\n",
              "      <th>concavity_mean</th>\n",
              "      <th>concave points_mean</th>\n",
              "      <th>symmetry_mean</th>\n",
              "      <th>fractal_dimension_mean</th>\n",
              "      <th>radius_se</th>\n",
              "      <th>texture_se</th>\n",
              "      <th>perimeter_se</th>\n",
              "      <th>area_se</th>\n",
              "      <th>smoothness_se</th>\n",
              "      <th>compactness_se</th>\n",
              "      <th>concavity_se</th>\n",
              "      <th>concave points_se</th>\n",
              "      <th>symmetry_se</th>\n",
              "      <th>fractal_dimension_se</th>\n",
              "      <th>radius_worst</th>\n",
              "      <th>texture_worst</th>\n",
              "      <th>perimeter_worst</th>\n",
              "      <th>area_worst</th>\n",
              "      <th>smoothness_worst</th>\n",
              "      <th>compactness_worst</th>\n",
              "      <th>concavity_worst</th>\n",
              "      <th>concave points_worst</th>\n",
              "      <th>symmetry_worst</th>\n",
              "      <th>fractal_dimension_worst</th>\n",
              "    </tr>\n",
              "  </thead>\n",
              "  <tbody>\n",
              "    <tr>\n",
              "      <th>338</th>\n",
              "      <td>10.05</td>\n",
              "      <td>17.53</td>\n",
              "      <td>64.41</td>\n",
              "      <td>310.8</td>\n",
              "      <td>0.10070</td>\n",
              "      <td>0.07326</td>\n",
              "      <td>0.02511</td>\n",
              "      <td>0.01775</td>\n",
              "      <td>0.1890</td>\n",
              "      <td>0.06331</td>\n",
              "      <td>0.2619</td>\n",
              "      <td>2.0150</td>\n",
              "      <td>1.778</td>\n",
              "      <td>16.85</td>\n",
              "      <td>0.007803</td>\n",
              "      <td>0.01449</td>\n",
              "      <td>0.01690</td>\n",
              "      <td>0.008043</td>\n",
              "      <td>0.02100</td>\n",
              "      <td>0.002778</td>\n",
              "      <td>11.16</td>\n",
              "      <td>26.84</td>\n",
              "      <td>71.98</td>\n",
              "      <td>384.0</td>\n",
              "      <td>0.1402</td>\n",
              "      <td>0.1402</td>\n",
              "      <td>0.1055</td>\n",
              "      <td>0.06499</td>\n",
              "      <td>0.2894</td>\n",
              "      <td>0.07664</td>\n",
              "    </tr>\n",
              "    <tr>\n",
              "      <th>427</th>\n",
              "      <td>10.80</td>\n",
              "      <td>21.98</td>\n",
              "      <td>68.79</td>\n",
              "      <td>359.9</td>\n",
              "      <td>0.08801</td>\n",
              "      <td>0.05743</td>\n",
              "      <td>0.03614</td>\n",
              "      <td>0.01404</td>\n",
              "      <td>0.2016</td>\n",
              "      <td>0.05977</td>\n",
              "      <td>0.3077</td>\n",
              "      <td>1.6210</td>\n",
              "      <td>2.240</td>\n",
              "      <td>20.20</td>\n",
              "      <td>0.006543</td>\n",
              "      <td>0.02148</td>\n",
              "      <td>0.02991</td>\n",
              "      <td>0.010450</td>\n",
              "      <td>0.01844</td>\n",
              "      <td>0.002690</td>\n",
              "      <td>12.76</td>\n",
              "      <td>32.04</td>\n",
              "      <td>83.69</td>\n",
              "      <td>489.5</td>\n",
              "      <td>0.1303</td>\n",
              "      <td>0.1696</td>\n",
              "      <td>0.1927</td>\n",
              "      <td>0.07485</td>\n",
              "      <td>0.2965</td>\n",
              "      <td>0.07662</td>\n",
              "    </tr>\n",
              "    <tr>\n",
              "      <th>406</th>\n",
              "      <td>16.14</td>\n",
              "      <td>14.86</td>\n",
              "      <td>104.30</td>\n",
              "      <td>800.0</td>\n",
              "      <td>0.09495</td>\n",
              "      <td>0.08501</td>\n",
              "      <td>0.05500</td>\n",
              "      <td>0.04528</td>\n",
              "      <td>0.1735</td>\n",
              "      <td>0.05875</td>\n",
              "      <td>0.2387</td>\n",
              "      <td>0.6372</td>\n",
              "      <td>1.729</td>\n",
              "      <td>21.83</td>\n",
              "      <td>0.003958</td>\n",
              "      <td>0.01246</td>\n",
              "      <td>0.01831</td>\n",
              "      <td>0.008747</td>\n",
              "      <td>0.01500</td>\n",
              "      <td>0.001621</td>\n",
              "      <td>17.71</td>\n",
              "      <td>19.58</td>\n",
              "      <td>115.90</td>\n",
              "      <td>947.9</td>\n",
              "      <td>0.1206</td>\n",
              "      <td>0.1722</td>\n",
              "      <td>0.2310</td>\n",
              "      <td>0.11290</td>\n",
              "      <td>0.2778</td>\n",
              "      <td>0.07012</td>\n",
              "    </tr>\n",
              "  </tbody>\n",
              "</table>\n",
              "</div>"
            ],
            "text/plain": [
              "     radius_mean  texture_mean  ...  symmetry_worst  fractal_dimension_worst\n",
              "338        10.05         17.53  ...          0.2894                  0.07664\n",
              "427        10.80         21.98  ...          0.2965                  0.07662\n",
              "406        16.14         14.86  ...          0.2778                  0.07012\n",
              "\n",
              "[3 rows x 30 columns]"
            ]
          },
          "metadata": {
            "tags": []
          },
          "execution_count": 92
        }
      ]
    },
    {
      "cell_type": "code",
      "metadata": {
        "colab": {
          "base_uri": "https://localhost:8080/"
        },
        "id": "CN6bWxXCNj1x",
        "outputId": "339f146e-1d52-4f82-b565-61d09331bbcf"
      },
      "source": [
        "model = LogisticRegression()\n",
        "model.fit(xtrain, ytrain)"
      ],
      "execution_count": null,
      "outputs": [
        {
          "output_type": "stream",
          "text": [
            "/usr/local/lib/python3.7/dist-packages/sklearn/linear_model/_logistic.py:940: ConvergenceWarning: lbfgs failed to converge (status=1):\n",
            "STOP: TOTAL NO. of ITERATIONS REACHED LIMIT.\n",
            "\n",
            "Increase the number of iterations (max_iter) or scale the data as shown in:\n",
            "    https://scikit-learn.org/stable/modules/preprocessing.html\n",
            "Please also refer to the documentation for alternative solver options:\n",
            "    https://scikit-learn.org/stable/modules/linear_model.html#logistic-regression\n",
            "  extra_warning_msg=_LOGISTIC_SOLVER_CONVERGENCE_MSG)\n"
          ],
          "name": "stderr"
        },
        {
          "output_type": "execute_result",
          "data": {
            "text/plain": [
              "LogisticRegression(C=1.0, class_weight=None, dual=False, fit_intercept=True,\n",
              "                   intercept_scaling=1, l1_ratio=None, max_iter=100,\n",
              "                   multi_class='auto', n_jobs=None, penalty='l2',\n",
              "                   random_state=None, solver='lbfgs', tol=0.0001, verbose=0,\n",
              "                   warm_start=False)"
            ]
          },
          "metadata": {
            "tags": []
          },
          "execution_count": 104
        }
      ]
    },
    {
      "cell_type": "code",
      "metadata": {
        "id": "3KjssS-nOSOh"
      },
      "source": [
        "prediction = model.predict(xtest)"
      ],
      "execution_count": null,
      "outputs": []
    },
    {
      "cell_type": "code",
      "metadata": {
        "colab": {
          "base_uri": "https://localhost:8080/"
        },
        "id": "VLHYu0YpOVd5",
        "outputId": "22af059b-dd1e-4bf7-81d9-7bbdf1bc64b8"
      },
      "source": [
        "print(classification_report(ytest, y_pred=prediction))"
      ],
      "execution_count": null,
      "outputs": [
        {
          "output_type": "stream",
          "text": [
            "              precision    recall  f1-score   support\n",
            "\n",
            "           B       0.97      0.94      0.95        67\n",
            "           M       0.92      0.96      0.94        47\n",
            "\n",
            "    accuracy                           0.95       114\n",
            "   macro avg       0.94      0.95      0.95       114\n",
            "weighted avg       0.95      0.95      0.95       114\n",
            "\n"
          ],
          "name": "stdout"
        }
      ]
    },
    {
      "cell_type": "code",
      "metadata": {
        "colab": {
          "base_uri": "https://localhost:8080/",
          "height": 296
        },
        "id": "DMb_hEVo5gJx",
        "outputId": "53e116f6-bb46-4f7e-c4ac-e4f02da9d4c0"
      },
      "source": [
        "plot_confusion_matrix(model, xtest , ytest ,cmap='crest', values_format = '.5g')"
      ],
      "execution_count": null,
      "outputs": [
        {
          "output_type": "execute_result",
          "data": {
            "text/plain": [
              "<sklearn.metrics._plot.confusion_matrix.ConfusionMatrixDisplay at 0x7fe78e5d4510>"
            ]
          },
          "metadata": {
            "tags": []
          },
          "execution_count": 106
        },
        {
          "output_type": "display_data",
          "data": {
            "image/png": "[encoded data removed]",
            "text/plain": [
              "<Figure size 432x288 with 2 Axes>"
            ]
          },
          "metadata": {
            "tags": []
          }
        }
      ]
    },
    {
      "cell_type": "markdown",
      "metadata": {
        "id": "28EUr2-0O9KA"
      },
      "source": [
        "### Áp dụng thuật toán GAs"
      ]
    },
    {
      "cell_type": "code",
      "metadata": {
        "id": "yKCnkP7z4_6A"
      },
      "source": [
        "xtrain_gas = xtrain[ga_feats]\n",
        "xtest_gas = xtest[ga_feats]"
      ],
      "execution_count": null,
      "outputs": []
    },
    {
      "cell_type": "code",
      "metadata": {
        "colab": {
          "base_uri": "https://localhost:8080/",
          "height": 173
        },
        "id": "0evz-kun5Jse",
        "outputId": "ace57fc7-5a17-4b3f-ca72-2588eab62258"
      },
      "source": [
        "xtrain_gas.head(3)"
      ],
      "execution_count": null,
      "outputs": [
        {
          "output_type": "execute_result",
          "data": {
            "text/html": [
              "<div>\n",
              "<style scoped>\n",
              "    .dataframe tbody tr th:only-of-type {\n",
              "        vertical-align: middle;\n",
              "    }\n",
              "\n",
              "    .dataframe tbody tr th {\n",
              "        vertical-align: top;\n",
              "    }\n",
              "\n",
              "    .dataframe thead th {\n",
              "        text-align: right;\n",
              "    }\n",
              "</style>\n",
              "<table border=\"1\" class=\"dataframe\">\n",
              "  <thead>\n",
              "    <tr style=\"text-align: right;\">\n",
              "      <th></th>\n",
              "      <th>radius_mean</th>\n",
              "      <th>area_mean</th>\n",
              "      <th>smoothness_mean</th>\n",
              "      <th>concavity_mean</th>\n",
              "      <th>concave points_mean</th>\n",
              "      <th>radius_se</th>\n",
              "      <th>texture_se</th>\n",
              "      <th>concavity_se</th>\n",
              "      <th>concave points_se</th>\n",
              "      <th>symmetry_se</th>\n",
              "      <th>texture_worst</th>\n",
              "      <th>perimeter_worst</th>\n",
              "      <th>compactness_worst</th>\n",
              "      <th>concavity_worst</th>\n",
              "      <th>concave points_worst</th>\n",
              "      <th>symmetry_worst</th>\n",
              "    </tr>\n",
              "  </thead>\n",
              "  <tbody>\n",
              "    <tr>\n",
              "      <th>338</th>\n",
              "      <td>10.05</td>\n",
              "      <td>310.8</td>\n",
              "      <td>0.10070</td>\n",
              "      <td>0.02511</td>\n",
              "      <td>0.01775</td>\n",
              "      <td>0.2619</td>\n",
              "      <td>2.0150</td>\n",
              "      <td>0.01690</td>\n",
              "      <td>0.008043</td>\n",
              "      <td>0.02100</td>\n",
              "      <td>26.84</td>\n",
              "      <td>71.98</td>\n",
              "      <td>0.1402</td>\n",
              "      <td>0.1055</td>\n",
              "      <td>0.06499</td>\n",
              "      <td>0.2894</td>\n",
              "    </tr>\n",
              "    <tr>\n",
              "      <th>427</th>\n",
              "      <td>10.80</td>\n",
              "      <td>359.9</td>\n",
              "      <td>0.08801</td>\n",
              "      <td>0.03614</td>\n",
              "      <td>0.01404</td>\n",
              "      <td>0.3077</td>\n",
              "      <td>1.6210</td>\n",
              "      <td>0.02991</td>\n",
              "      <td>0.010450</td>\n",
              "      <td>0.01844</td>\n",
              "      <td>32.04</td>\n",
              "      <td>83.69</td>\n",
              "      <td>0.1696</td>\n",
              "      <td>0.1927</td>\n",
              "      <td>0.07485</td>\n",
              "      <td>0.2965</td>\n",
              "    </tr>\n",
              "    <tr>\n",
              "      <th>406</th>\n",
              "      <td>16.14</td>\n",
              "      <td>800.0</td>\n",
              "      <td>0.09495</td>\n",
              "      <td>0.05500</td>\n",
              "      <td>0.04528</td>\n",
              "      <td>0.2387</td>\n",
              "      <td>0.6372</td>\n",
              "      <td>0.01831</td>\n",
              "      <td>0.008747</td>\n",
              "      <td>0.01500</td>\n",
              "      <td>19.58</td>\n",
              "      <td>115.90</td>\n",
              "      <td>0.1722</td>\n",
              "      <td>0.2310</td>\n",
              "      <td>0.11290</td>\n",
              "      <td>0.2778</td>\n",
              "    </tr>\n",
              "  </tbody>\n",
              "</table>\n",
              "</div>"
            ],
            "text/plain": [
              "     radius_mean  area_mean  ...  concave points_worst  symmetry_worst\n",
              "338        10.05      310.8  ...               0.06499          0.2894\n",
              "427        10.80      359.9  ...               0.07485          0.2965\n",
              "406        16.14      800.0  ...               0.11290          0.2778\n",
              "\n",
              "[3 rows x 16 columns]"
            ]
          },
          "metadata": {
            "tags": []
          },
          "execution_count": 97
        }
      ]
    },
    {
      "cell_type": "code",
      "metadata": {
        "colab": {
          "base_uri": "https://localhost:8080/"
        },
        "id": "CFFycuYaPFu9",
        "outputId": "0d67dac7-5b05-4c55-de4f-8a2914c7f8a4"
      },
      "source": [
        "model = LogisticRegression()\n",
        "model.fit(xtrain_gas, ytrain)"
      ],
      "execution_count": null,
      "outputs": [
        {
          "output_type": "stream",
          "text": [
            "/usr/local/lib/python3.7/dist-packages/sklearn/linear_model/_logistic.py:940: ConvergenceWarning: lbfgs failed to converge (status=1):\n",
            "STOP: TOTAL NO. of ITERATIONS REACHED LIMIT.\n",
            "\n",
            "Increase the number of iterations (max_iter) or scale the data as shown in:\n",
            "    https://scikit-learn.org/stable/modules/preprocessing.html\n",
            "Please also refer to the documentation for alternative solver options:\n",
            "    https://scikit-learn.org/stable/modules/linear_model.html#logistic-regression\n",
            "  extra_warning_msg=_LOGISTIC_SOLVER_CONVERGENCE_MSG)\n"
          ],
          "name": "stderr"
        },
        {
          "output_type": "execute_result",
          "data": {
            "text/plain": [
              "LogisticRegression(C=1.0, class_weight=None, dual=False, fit_intercept=True,\n",
              "                   intercept_scaling=1, l1_ratio=None, max_iter=100,\n",
              "                   multi_class='auto', n_jobs=None, penalty='l2',\n",
              "                   random_state=None, solver='lbfgs', tol=0.0001, verbose=0,\n",
              "                   warm_start=False)"
            ]
          },
          "metadata": {
            "tags": []
          },
          "execution_count": 98
        }
      ]
    },
    {
      "cell_type": "code",
      "metadata": {
        "id": "vOoXnJP5PHfR"
      },
      "source": [
        "prediction = model.predict(xtest_gas)"
      ],
      "execution_count": null,
      "outputs": []
    },
    {
      "cell_type": "code",
      "metadata": {
        "colab": {
          "base_uri": "https://localhost:8080/"
        },
        "id": "zBh3tLITPKgl",
        "outputId": "2a76ce27-ea5f-47b2-a90b-30379bf59cc4"
      },
      "source": [
        "print(classification_report(ytest, y_pred=prediction))"
      ],
      "execution_count": null,
      "outputs": [
        {
          "output_type": "stream",
          "text": [
            "              precision    recall  f1-score   support\n",
            "\n",
            "           B       0.98      0.96      0.97        67\n",
            "           M       0.94      0.98      0.96        47\n",
            "\n",
            "    accuracy                           0.96       114\n",
            "   macro avg       0.96      0.97      0.96       114\n",
            "weighted avg       0.97      0.96      0.97       114\n",
            "\n"
          ],
          "name": "stdout"
        }
      ]
    },
    {
      "cell_type": "code",
      "metadata": {
        "colab": {
          "base_uri": "https://localhost:8080/",
          "height": 296
        },
        "id": "2NATZOFTPbqP",
        "outputId": "0d7d1037-41ad-4d5f-f24b-530d96b8262c"
      },
      "source": [
        "plot_confusion_matrix(model, xtest_gas, ytest ,cmap='crest', values_format = '.5g')"
      ],
      "execution_count": null,
      "outputs": [
        {
          "output_type": "execute_result",
          "data": {
            "text/plain": [
              "<sklearn.metrics._plot.confusion_matrix.ConfusionMatrixDisplay at 0x7fe78f9fec10>"
            ]
          },
          "metadata": {
            "tags": []
          },
          "execution_count": 102
        },
        {
          "output_type": "display_data",
          "data": {
            "image/png": "[encoded data removed]",
            "text/plain": [
              "<Figure size 432x288 with 2 Axes>"
            ]
          },
          "metadata": {
            "tags": []
          }
        }
      ]
    }
  ]
}